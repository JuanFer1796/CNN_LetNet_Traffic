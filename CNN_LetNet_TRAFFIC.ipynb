{
 "cells": [
  {
   "cell_type": "markdown",
   "id": "e9284933-45f1-4437-97c0-76fcc02e6067",
   "metadata": {},
   "source": [
    "# CNN LeNet para Clasificación de Señales de Tráfico"
   ]
  },
  {
   "cell_type": "code",
   "execution_count": 1,
   "id": "71b3ccd3-3600-48e2-9654-028256fb91f6",
   "metadata": {},
   "outputs": [],
   "source": [
    "import pandas as pd\n",
    "import numpy as np\n",
    "import seaborn as sns\n",
    "import matplotlib.pyplot as plt\n",
    "from matplotlib.image import imread\n",
    "import os\n",
    "import pickle"
   ]
  },
  {
   "cell_type": "code",
   "execution_count": 2,
   "id": "3ce7124f-2d5c-44f2-9b80-e5ecda649014",
   "metadata": {},
   "outputs": [],
   "source": [
    "from tensorflow.keras.models import Sequential\n",
    "from tensorflow.keras.layers import Conv2D, AveragePooling2D, Flatten, Dense, Dropout, BatchNormalization\n",
    "from tensorflow.keras.callbacks import EarlyStopping\n",
    "from tensorflow.keras.utils import to_categorical\n",
    "from tensorflow.keras.optimizers import Adam\n",
    "from sklearn.metrics import precision_score, recall_score, f1_score"
   ]
  },
  {
   "cell_type": "code",
   "execution_count": 3,
   "id": "49629deb-91dd-45e8-a8cb-573397c3fc52",
   "metadata": {},
   "outputs": [],
   "source": [
    "dir_datos = \"LABORATORIO2_DS\""
   ]
  },
  {
   "cell_type": "code",
   "execution_count": 4,
   "id": "bac2c105-7297-4778-a5b6-b9b3f84fa86f",
   "metadata": {},
   "outputs": [
    {
     "data": {
      "text/plain": [
       "'.ipynb_checkpoints'"
      ]
     },
     "execution_count": 4,
     "metadata": {},
     "output_type": "execute_result"
    }
   ],
   "source": [
    "os.listdir(dir_datos)[0]"
   ]
  },
  {
   "cell_type": "code",
   "execution_count": 5,
   "id": "a9bb6d85-fbf7-438d-8a25-400bec0a0aa1",
   "metadata": {},
   "outputs": [],
   "source": [
    "trayecto_test = dir_datos + '/prueba.p'\n",
    "trayecto_train = dir_datos + '/entrenamiento.p'\n",
    "trayecto_val = dir_datos + '/validacion.p'"
   ]
  },
  {
   "cell_type": "code",
   "execution_count": 6,
   "id": "32e275cf-beb0-4aff-977b-7e0c35e1d381",
   "metadata": {},
   "outputs": [],
   "source": [
    "def cargar_datos(ruta):\n",
    "    with open(ruta, 'rb') as file:\n",
    "        datos = pickle.load(file)\n",
    "    return datos"
   ]
  },
  {
   "cell_type": "code",
   "execution_count": 7,
   "id": "f9d478ba-e83e-4591-8fb4-67cbab329050",
   "metadata": {},
   "outputs": [],
   "source": [
    "datos_prueba = cargar_datos(trayecto_test)\n",
    "datos_entrenamiento = cargar_datos(trayecto_train)\n",
    "datos_validacion = cargar_datos(trayecto_val)"
   ]
  },
  {
   "cell_type": "code",
   "execution_count": 8,
   "id": "8ed133ef-e2b0-4f50-9cbf-61bad1877eef",
   "metadata": {},
   "outputs": [
    {
     "name": "stdout",
     "output_type": "stream",
     "text": [
      "<class 'dict'>\n",
      "dict_keys(['coords', 'labels', 'features', 'sizes'])\n"
     ]
    }
   ],
   "source": [
    "# After loading the 'images' from the pickle file:\n",
    "\n",
    "# Print the type of the object\n",
    "print(type(datos_entrenamiento))\n",
    "\n",
    "# If it's a dictionary, print its keys\n",
    "if isinstance(datos_entrenamiento, dict):\n",
    "    print(datos_entrenamiento.keys())"
   ]
  },
  {
   "cell_type": "code",
   "execution_count": 9,
   "id": "914c3320-1bd0-4932-be55-df661e604bd9",
   "metadata": {},
   "outputs": [
    {
     "name": "stdout",
     "output_type": "stream",
     "text": [
      "coords: Type = <class 'numpy.ndarray'>, Length/Shape = (34799, 4)\n",
      "labels: Type = <class 'numpy.ndarray'>, Length/Shape = (34799,)\n",
      "features: Type = <class 'numpy.ndarray'>, Length/Shape = (34799, 32, 32, 3)\n",
      "sizes: Type = <class 'numpy.ndarray'>, Length/Shape = (34799, 2)\n"
     ]
    }
   ],
   "source": [
    "for key, value in datos_entrenamiento.items():\n",
    "    print(f\"{key}: Type = {type(value)}, Length/Shape = {len(value) if isinstance(value, (list, dict)) else (value.shape if hasattr(value, 'shape') else 'N/A')}\")\n"
   ]
  },
  {
   "cell_type": "code",
   "execution_count": 10,
   "id": "443fa91e-d128-44a7-b07b-ac48c0e4c575",
   "metadata": {},
   "outputs": [
    {
     "data": {
      "image/png": "[encoded data removed]",
      "text/plain": [
       "<Figure size 432x288 with 1 Axes>"
      ]
     },
     "metadata": {
      "needs_background": "light"
     },
     "output_type": "display_data"
    }
   ],
   "source": [
    "plt.imshow(datos_entrenamiento['features'][1])\n",
    "plt.title(f\"Label: {datos_entrenamiento['labels'][1]}\")\n",
    "plt.show()"
   ]
  },
  {
   "cell_type": "code",
   "execution_count": 11,
   "id": "ece31e2a-d63e-4ec8-bf3b-8dbb9106b91f",
   "metadata": {},
   "outputs": [],
   "source": [
    "# 1. Normalizar las imágenes\n",
    "X_entrenamiento = datos_entrenamiento['features'] / 255.0\n",
    "X_prueba = datos_prueba['features'] / 255.0\n",
    "X_validacion = datos_validacion['features'] / 255.0"
   ]
  },
  {
   "cell_type": "code",
   "execution_count": 12,
   "id": "c0929d00-f37d-49aa-a76e-a0f0c08f3503",
   "metadata": {},
   "outputs": [
    {
     "name": "stdout",
     "output_type": "stream",
     "text": [
      "X_entrenamiento shape: (34799, 32, 32, 3)\n",
      "Y_entrenamiento shape: (34799, 43)\n",
      "X_prueba shape: (12630, 32, 32, 3)\n",
      "Y_prueba shape: (12630, 43)\n",
      "X_validacion shape: (4410, 32, 32, 3)\n",
      "Y_validacion shape: (4410, 43)\n"
     ]
    }
   ],
   "source": [
    "# 2. One-Hot Encoding para las etiquetas\n",
    "Y_entrenamiento = to_categorical(datos_entrenamiento['labels'])\n",
    "Y_prueba = to_categorical(datos_prueba['labels'])\n",
    "Y_validacion = to_categorical(datos_validacion['labels'])\n",
    "\n",
    "# Verificar las dimensiones de los datos procesados\n",
    "print(\"X_entrenamiento shape:\", X_entrenamiento.shape)\n",
    "print(\"Y_entrenamiento shape:\", Y_entrenamiento.shape)\n",
    "print(\"X_prueba shape:\", X_prueba.shape)\n",
    "print(\"Y_prueba shape:\", Y_prueba.shape)\n",
    "print(\"X_validacion shape:\", X_validacion.shape)\n",
    "print(\"Y_validacion shape:\", Y_validacion.shape)"
   ]
  },
  {
   "cell_type": "code",
   "execution_count": 13,
   "id": "c25e246f-747d-4fc6-90cd-5d51fe9abc1e",
   "metadata": {},
   "outputs": [
    {
     "data": {
      "image/png": "[encoded data removed]",
      "text/plain": [
       "<Figure size 432x288 with 1 Axes>"
      ]
     },
     "metadata": {
      "needs_background": "light"
     },
     "output_type": "display_data"
    }
   ],
   "source": [
    "# Visualizar distribución de clases\n",
    "unique, counts = np.unique(np.argmax(Y_prueba, axis=1), return_counts=True)\n",
    "plt.bar(unique, counts)\n",
    "plt.title('Distribución de clases en el conjunto de prueba')\n",
    "plt.xlabel('Clases')\n",
    "plt.ylabel('Número de muestras')\n",
    "plt.show()"
   ]
  },
  {
   "cell_type": "code",
   "execution_count": 14,
   "id": "94c1cb88-2e75-4510-a7b9-0aaa74b2058d",
   "metadata": {},
   "outputs": [
    {
     "data": {
      "text/plain": [
       "{0: 60,\n",
       " 1: 720,\n",
       " 2: 750,\n",
       " 3: 450,\n",
       " 4: 660,\n",
       " 5: 630,\n",
       " 6: 150,\n",
       " 7: 450,\n",
       " 8: 450,\n",
       " 9: 480,\n",
       " 10: 660,\n",
       " 11: 420,\n",
       " 12: 690,\n",
       " 13: 720,\n",
       " 14: 270,\n",
       " 15: 210,\n",
       " 16: 150,\n",
       " 17: 360,\n",
       " 18: 390,\n",
       " 19: 60,\n",
       " 20: 90,\n",
       " 21: 90,\n",
       " 22: 120,\n",
       " 23: 150,\n",
       " 24: 90,\n",
       " 25: 480,\n",
       " 26: 180,\n",
       " 27: 60,\n",
       " 28: 150,\n",
       " 29: 90,\n",
       " 30: 150,\n",
       " 31: 270,\n",
       " 32: 60,\n",
       " 33: 210,\n",
       " 34: 120,\n",
       " 35: 390,\n",
       " 36: 120,\n",
       " 37: 60,\n",
       " 38: 690,\n",
       " 39: 90,\n",
       " 40: 90,\n",
       " 41: 60,\n",
       " 42: 90}"
      ]
     },
     "execution_count": 14,
     "metadata": {},
     "output_type": "execute_result"
    }
   ],
   "source": [
    "dict(zip(unique, counts))"
   ]
  },
  {
   "cell_type": "code",
   "execution_count": 15,
   "id": "f4a61fa0-ace9-4844-829b-73facb421515",
   "metadata": {},
   "outputs": [],
   "source": [
    "import sklearn\n",
    "from imblearn.over_sampling import SMOTE\n",
    "\n",
    "# Aplanar las imágenes\n",
    "X_entrenamiento_flattened = X_entrenamiento.reshape(X_entrenamiento.shape[0], -1)\n",
    "Y_entrenamiento_labels = np.argmax(Y_entrenamiento, axis=1)  # Convertir de one-hot a labels\n",
    "\n",
    "# Aplicar SMOTE\n",
    "smote = SMOTE()\n",
    "X_entrenamiento_resampled, Y_entrenamiento_resampled = smote.fit_resample(X_entrenamiento_flattened, Y_entrenamiento_labels)\n",
    "\n",
    "# Reformatear las imágenes a su forma original y las etiquetas a one-hot encoding\n",
    "X_entrenamiento_resampled = X_entrenamiento_resampled.reshape((-1, 32, 32, 3))\n",
    "Y_entrenamiento_resampled = to_categorical(Y_entrenamiento_resampled)\n"
   ]
  },
  {
   "cell_type": "code",
   "execution_count": 16,
   "id": "6d970bde-2286-4331-a0de-8787db19422d",
   "metadata": {},
   "outputs": [
    {
     "data": {
      "image/png": "[encoded data removed]",
      "text/plain": [
       "<Figure size 1080x504 with 1 Axes>"
      ]
     },
     "metadata": {
      "needs_background": "light"
     },
     "output_type": "display_data"
    }
   ],
   "source": [
    "# Convertir de one-hot a labels\n",
    "Y_entrenamiento_resampled_labels = np.argmax(Y_entrenamiento_resampled, axis=1)\n",
    "\n",
    "# Contar las ocurrencias de cada etiqueta\n",
    "unique, counts = np.unique(Y_entrenamiento_resampled_labels, return_counts=True)\n",
    "\n",
    "# Visualizar las ocurrencias\n",
    "plt.figure(figsize=(15,7))\n",
    "plt.bar(unique, counts)\n",
    "plt.title('Distribución de clases después de SMOTE')\n",
    "plt.xlabel('Clase')\n",
    "plt.ylabel('Número de imágenes')\n",
    "plt.xticks(unique)\n",
    "plt.grid(axis='y')\n",
    "plt.show()"
   ]
  },
  {
   "cell_type": "code",
   "execution_count": 17,
   "id": "63ff60e4-1fe4-472f-82c8-e5919dc94857",
   "metadata": {},
   "outputs": [],
   "source": [
    "from keras.preprocessing.image import ImageDataGenerator"
   ]
  },
  {
   "cell_type": "code",
   "execution_count": 18,
   "id": "cdf9a515-8cc8-48e5-bd82-caaf2ef43090",
   "metadata": {},
   "outputs": [],
   "source": [
    "\"\"\"datagen = ImageDataGenerator(\n",
    "    rotation_range=10,         # Pequeñas rotaciones aleatorias\n",
    "    width_shift_range=0.1,     # Desplazamiento horizontal aleatorio\n",
    "    height_shift_range=0.1,    # Desplazamiento vertical aleatorio\n",
    "    zoom_range=0.1,            # Rango de zoom aleatorio\n",
    "    horizontal_flip=True,      # Volteo horizontal aleatorio\n",
    "    fill_mode='nearest'        # Método para rellenar puntos fuera de la imagen original\n",
    ")\"\"\"\n",
    "\n",
    "datagen = ImageDataGenerator(\n",
    "    rotation_range=15,          # Aumentamos el rango de rotación\n",
    "    width_shift_range=0.15,     # Aumentamos el desplazamiento horizontal\n",
    "    height_shift_range=0.15,    # Aumentamos el desplazamiento vertical\n",
    "    zoom_range=0.15,            # Aumentamos el rango de zoom\n",
    "    horizontal_flip=True,       \n",
    "    fill_mode='nearest'         \n",
    ")"
   ]
  },
  {
   "cell_type": "code",
   "execution_count": 19,
   "id": "86542df6-034f-4a22-ab74-02a956f53743",
   "metadata": {},
   "outputs": [],
   "source": [
    "datagen.fit(X_entrenamiento)"
   ]
  },
  {
   "cell_type": "markdown",
   "id": "587688b0-da5d-4945-b3d1-0cf6cf025947",
   "metadata": {},
   "source": [
    "## Arquitectura LeNet:\n",
    "\n",
    "LeNet es una arquitectura de red neuronal convolucional diseñada principalmente para la clasificación de imágenes. En este proyecto, se utiliza para clasificar señales de tráfico.\n",
    "\n",
    "### Capas en el Modelo:\n",
    "\n",
    "- **Capa Convolutiva 1**: \n",
    "  - Utiliza 6 filtros de tamaño 5x5.\n",
    "  - Función de activación 'tanh'.\n",
    "  - Padding \"same\", lo que significa que la salida tiene el mismo tamaño que la entrada.\n",
    "\n",
    "- **Capa de Pooling 1**: \n",
    "  - Realiza un pooling promedio de tamaño 2x2.\n",
    "\n",
    "- **Capa Convolutiva 2**: \n",
    "  - Utiliza 16 filtros de tamaño 5x5.\n",
    "  - Función de activación 'tanh'.\n",
    "  - Sin padding.\n",
    "\n",
    "- **Capa de Pooling 2**: \n",
    "  - Similar a la primera capa de pooling con un tamaño de 2x2.\n",
    "\n",
    "- **Aplanado (Flatten)**: \n",
    "  - Convierte la salida en un vector 1D.\n",
    "\n",
    "- **Capa Densa 1**: \n",
    "  - Consta de 120 neuronas con función de activación 'tanh'.\n",
    "\n",
    "- **Capa Densa 2**: \n",
    "  - Consta de 84 neuronas con función de activación 'tanh'.\n",
    "\n",
    "- **Capa de Salida**: \n",
    "  - Consta de 43 neuronas, correspondientes a las 43 clases de señales de tráfico.\n",
    "  - Utiliza una función de activación 'softmax' para obtener probabilidades.\n"
   ]
  },
  {
   "attachments": {
    "5c3d40dd-7b3c-4435-a738-7b6ac721d7e8.png": {
     "image/png": "[encoded data removed]"
    }
   },
   "cell_type": "markdown",
   "id": "77e2e8dc-2036-4455-9fcc-38885510312b",
   "metadata": {},
   "source": [
    "![image.png](attachment:5c3d40dd-7b3c-4435-a738-7b6ac721d7e8.png)"
   ]
  },
  {
   "cell_type": "markdown",
   "id": "a7c20900-edc6-4d63-9b6f-f190794b2a7a",
   "metadata": {},
   "source": [
    "## Proceso de Convolución, Función de Activación y Pooling:\n",
    "\n",
    "- **Convolución**: Proceso que aplica filtros a la imagen para detectar características como bordes, texturas, entre otros.\n",
    "- **Función de Activación**: Transforma la salida de la capa. En este caso, se utiliza 'tanh', que transforma los valores a un rango entre -1 y 1.\n",
    "- **Pooling**: Reduce la dimensión espacial de la entrada. En este caso, se utiliza pooling promedio.\n",
    "\n",
    "## Función de Pérdida y Optimizador:\n",
    "\n",
    "- **Función de Pérdida**: Mide cuán bien el modelo realiza predicciones. En este código, se utiliza \"categorical_crossentropy\" por tratarse de una clasificación multiclase.\n",
    "- **Optimizador**: Ajusta los pesos del modelo para minimizar la función de pérdida. Aquí se utiliza \"Adam\", un optimizador popular que ajusta la tasa de aprendizaje durante el entrenamiento."
   ]
  },
  {
   "cell_type": "code",
   "execution_count": 20,
   "id": "31a7718e-bb4b-4647-b0cf-16277f22b3cf",
   "metadata": {},
   "outputs": [],
   "source": [
    "modelo_LeNet = Sequential()\n",
    "# Capa convolucional 1\n",
    "modelo_LeNet.add(Conv2D(6, kernel_size=(5, 5), strides=(1, 1), activation='tanh', input_shape=(32, 32, 3), padding=\"same\"))\n",
    "\n",
    "# Capa de subsampling (pooling) 1\n",
    "modelo_LeNet.add(AveragePooling2D(pool_size=(2, 2), strides=(2, 2), padding='valid'))\n",
    "\n",
    "# Capa convolucional 2\n",
    "modelo_LeNet.add(Conv2D(16, kernel_size=(5, 5), strides=(1, 1), activation='tanh', padding='valid'))\n",
    "\n",
    "# Capa de subsampling (pooling) 2\n",
    "modelo_LeNet.add(AveragePooling2D(pool_size=(2, 2), strides=(2, 2), padding='valid'))\n",
    "\n",
    "# Aplanar\n",
    "modelo_LeNet.add(Flatten())\n",
    "\n",
    "# Capa completamente conectada (Dense) 1\n",
    "modelo_LeNet.add(Dense(120, activation='tanh'))\n",
    "\n",
    "# Capa completamente conectada (Dense) 2\n",
    "modelo_LeNet.add(Dense(84, activation='tanh'))\n",
    "\n",
    "# Capa de salida\n",
    "modelo_LeNet.add(Dense(43, activation='softmax'))"
   ]
  },
  {
   "cell_type": "code",
   "execution_count": 21,
   "id": "4385a2e4-ec6e-4d71-9c4b-6b8d34f739ea",
   "metadata": {},
   "outputs": [],
   "source": [
    "modelo_LeNet.compile(optimizer='adam', loss='categorical_crossentropy', metrics=['accuracy'])"
   ]
  },
  {
   "cell_type": "code",
   "execution_count": 22,
   "id": "6e0c2413-2b50-4d40-a98b-36abe362f425",
   "metadata": {},
   "outputs": [
    {
     "name": "stdout",
     "output_type": "stream",
     "text": [
      "Model: \"sequential\"\n",
      "_________________________________________________________________\n",
      " Layer (type)                Output Shape              Param #   \n",
      "=================================================================\n",
      " conv2d (Conv2D)             (None, 32, 32, 6)         456       \n",
      "                                                                 \n",
      " average_pooling2d (AverageP  (None, 16, 16, 6)        0         \n",
      " ooling2D)                                                       \n",
      "                                                                 \n",
      " conv2d_1 (Conv2D)           (None, 12, 12, 16)        2416      \n",
      "                                                                 \n",
      " average_pooling2d_1 (Averag  (None, 6, 6, 16)         0         \n",
      " ePooling2D)                                                     \n",
      "                                                                 \n",
      " flatten (Flatten)           (None, 576)               0         \n",
      "                                                                 \n",
      " dense (Dense)               (None, 120)               69240     \n",
      "                                                                 \n",
      " dense_1 (Dense)             (None, 84)                10164     \n",
      "                                                                 \n",
      " dense_2 (Dense)             (None, 43)                3655      \n",
      "                                                                 \n",
      "=================================================================\n",
      "Total params: 85,931\n",
      "Trainable params: 85,931\n",
      "Non-trainable params: 0\n",
      "_________________________________________________________________\n"
     ]
    }
   ],
   "source": [
    "# Resumen del modelo\n",
    "modelo_LeNet.summary()"
   ]
  },
  {
   "cell_type": "markdown",
   "id": "274ec827-363a-42c1-b046-9ec6ce60b31b",
   "metadata": {},
   "source": [
    "## Proceso de Entrenamiento:\n",
    "\n",
    "El modelo se entrena utilizando el conjunto de datos de entrenamiento a lo largo de 50 épocas, con un *learning rate* de 0.0001. En cada época, se evalúa tanto la función de pérdida (\"loss\") como la precisión (\"accuracy\") en los conjuntos de entrenamiento y validación. Esto permite monitorear cómo evoluciona el desempeño del modelo a medida que avanza el entrenamiento. Además, el uso de un *learning rate* adecuado es esencial para garantizar que el modelo converja de manera eficiente hacia una solución óptima sin oscilaciones excesivas o sin quedarse atascado en mínimos locales. Para evitar el sobreajuste y ahorrar tiempo de cómputo, se implementa un mecanismo de detención temprana. Este mecanismo detendrá el entrenamiento si no se observan mejorías en el error de validación durante un número específico de épocas consecutivas.\n"
   ]
  },
  {
   "cell_type": "code",
   "execution_count": 23,
   "id": "a6172b40-69c0-430e-8e0e-d2f142a1f0cd",
   "metadata": {},
   "outputs": [
    {
     "name": "stdout",
     "output_type": "stream",
     "text": [
      "Epoch 1/50\n",
      "1088/1088 [==============================] - 10s 8ms/step - loss: 0.9042 - accuracy: 0.7629 - val_loss: 0.4904 - val_accuracy: 0.8531\n",
      "Epoch 2/50\n",
      "1088/1088 [==============================] - 9s 8ms/step - loss: 0.1829 - accuracy: 0.9570 - val_loss: 0.3700 - val_accuracy: 0.8896\n",
      "Epoch 3/50\n",
      "1088/1088 [==============================] - 10s 9ms/step - loss: 0.0956 - accuracy: 0.9779 - val_loss: 0.3294 - val_accuracy: 0.8989\n",
      "Epoch 4/50\n",
      "1088/1088 [==============================] - 9s 8ms/step - loss: 0.0567 - accuracy: 0.9871 - val_loss: 0.3016 - val_accuracy: 0.9109\n",
      "Epoch 5/50\n",
      "1088/1088 [==============================] - 10s 9ms/step - loss: 0.0401 - accuracy: 0.9914 - val_loss: 0.3076 - val_accuracy: 0.9125\n",
      "Epoch 6/50\n",
      "1088/1088 [==============================] - 9s 9ms/step - loss: 0.0272 - accuracy: 0.9939 - val_loss: 0.2799 - val_accuracy: 0.9240\n",
      "Epoch 7/50\n",
      "1088/1088 [==============================] - 10s 9ms/step - loss: 0.0231 - accuracy: 0.9947 - val_loss: 0.2930 - val_accuracy: 0.9238\n",
      "Epoch 8/50\n",
      "1088/1088 [==============================] - 10s 9ms/step - loss: 0.0175 - accuracy: 0.9962 - val_loss: 0.2603 - val_accuracy: 0.9293\n",
      "Epoch 9/50\n",
      "1088/1088 [==============================] - 9s 8ms/step - loss: 0.0177 - accuracy: 0.9950 - val_loss: 0.2993 - val_accuracy: 0.9240\n",
      "Epoch 10/50\n",
      "1088/1088 [==============================] - 10s 9ms/step - loss: 0.0118 - accuracy: 0.9974 - val_loss: 0.3088 - val_accuracy: 0.9209\n",
      "Epoch 11/50\n",
      "1088/1088 [==============================] - 9s 9ms/step - loss: 0.0155 - accuracy: 0.9958 - val_loss: 0.3146 - val_accuracy: 0.9215\n",
      "Epoch 12/50\n",
      "1088/1088 [==============================] - 10s 9ms/step - loss: 0.0122 - accuracy: 0.9968 - val_loss: 0.2977 - val_accuracy: 0.9265\n",
      "Epoch 13/50\n",
      "1088/1088 [==============================] - 10s 9ms/step - loss: 0.0089 - accuracy: 0.9977 - val_loss: 0.3120 - val_accuracy: 0.9265\n",
      "Epoch 14/50\n",
      "1088/1088 [==============================] - 9s 9ms/step - loss: 0.0066 - accuracy: 0.9986 - val_loss: 0.3385 - val_accuracy: 0.9200\n",
      "Epoch 15/50\n",
      "1088/1088 [==============================] - 10s 9ms/step - loss: 0.0154 - accuracy: 0.9956 - val_loss: 0.3043 - val_accuracy: 0.9317\n",
      "Epoch 16/50\n",
      "1088/1088 [==============================] - 9s 9ms/step - loss: 0.0082 - accuracy: 0.9977 - val_loss: 0.3268 - val_accuracy: 0.9256\n",
      "Epoch 17/50\n",
      "1088/1088 [==============================] - 10s 9ms/step - loss: 0.0139 - accuracy: 0.9960 - val_loss: 0.3123 - val_accuracy: 0.9249\n",
      "Epoch 18/50\n",
      "1088/1088 [==============================] - 10s 9ms/step - loss: 0.0031 - accuracy: 0.9996 - val_loss: 0.3111 - val_accuracy: 0.9277\n",
      "Epoch 19/50\n",
      "1088/1088 [==============================] - 9s 9ms/step - loss: 0.0060 - accuracy: 0.9984 - val_loss: 0.3701 - val_accuracy: 0.9147\n",
      "Epoch 20/50\n",
      "1088/1088 [==============================] - 10s 9ms/step - loss: 0.0180 - accuracy: 0.9945 - val_loss: 0.3368 - val_accuracy: 0.9200\n",
      "Epoch 21/50\n",
      "1088/1088 [==============================] - 9s 9ms/step - loss: 0.0047 - accuracy: 0.9987 - val_loss: 0.3349 - val_accuracy: 0.9297\n",
      "Epoch 22/50\n",
      "1088/1088 [==============================] - 10s 9ms/step - loss: 0.0093 - accuracy: 0.9974 - val_loss: 0.4176 - val_accuracy: 0.9102\n",
      "Epoch 23/50\n",
      "1088/1088 [==============================] - 10s 9ms/step - loss: 0.0087 - accuracy: 0.9977 - val_loss: 0.3124 - val_accuracy: 0.9333\n",
      "Epoch 24/50\n",
      "1088/1088 [==============================] - 9s 9ms/step - loss: 0.0025 - accuracy: 0.9994 - val_loss: 0.3635 - val_accuracy: 0.9202\n",
      "Epoch 25/50\n",
      "1088/1088 [==============================] - 10s 9ms/step - loss: 0.0153 - accuracy: 0.9955 - val_loss: 0.3812 - val_accuracy: 0.9170\n",
      "Epoch 26/50\n",
      "1088/1088 [==============================] - 10s 9ms/step - loss: 0.0070 - accuracy: 0.9981 - val_loss: 0.3472 - val_accuracy: 0.9283\n",
      "Epoch 27/50\n",
      "1088/1088 [==============================] - 10s 9ms/step - loss: 0.0048 - accuracy: 0.9986 - val_loss: 0.3739 - val_accuracy: 0.9211\n",
      "Epoch 28/50\n",
      "1088/1088 [==============================] - 10s 9ms/step - loss: 0.0083 - accuracy: 0.9974 - val_loss: 0.3634 - val_accuracy: 0.9249\n",
      "Epoch 29/50\n",
      "1088/1088 [==============================] - 9s 9ms/step - loss: 0.0102 - accuracy: 0.9967 - val_loss: 0.3704 - val_accuracy: 0.9238\n",
      "Epoch 30/50\n",
      "1088/1088 [==============================] - 10s 9ms/step - loss: 0.0026 - accuracy: 0.9996 - val_loss: 0.3374 - val_accuracy: 0.9261\n",
      "Epoch 31/50\n",
      "1088/1088 [==============================] - 9s 9ms/step - loss: 8.9647e-04 - accuracy: 0.9999 - val_loss: 0.3703 - val_accuracy: 0.9254\n",
      "Epoch 32/50\n",
      "1088/1088 [==============================] - 10s 9ms/step - loss: 0.0187 - accuracy: 0.9942 - val_loss: 0.4007 - val_accuracy: 0.9231\n",
      "Epoch 33/50\n",
      "1088/1088 [==============================] - 10s 9ms/step - loss: 0.0051 - accuracy: 0.9985 - val_loss: 0.3087 - val_accuracy: 0.9395\n",
      "Epoch 34/50\n",
      "1088/1088 [==============================] - 9s 9ms/step - loss: 0.0065 - accuracy: 0.9981 - val_loss: 0.3353 - val_accuracy: 0.9358\n",
      "Epoch 35/50\n",
      "1088/1088 [==============================] - 10s 9ms/step - loss: 0.0063 - accuracy: 0.9982 - val_loss: 0.3537 - val_accuracy: 0.9252\n",
      "Epoch 36/50\n",
      "1088/1088 [==============================] - 9s 9ms/step - loss: 0.0050 - accuracy: 0.9985 - val_loss: 0.3265 - val_accuracy: 0.9361\n",
      "Epoch 37/50\n",
      "1088/1088 [==============================] - 10s 9ms/step - loss: 0.0071 - accuracy: 0.9979 - val_loss: 0.3517 - val_accuracy: 0.9308\n",
      "Epoch 38/50\n",
      "1088/1088 [==============================] - 10s 9ms/step - loss: 0.0071 - accuracy: 0.9976 - val_loss: 0.3244 - val_accuracy: 0.9367\n",
      "Epoch 39/50\n",
      "1088/1088 [==============================] - 9s 9ms/step - loss: 0.0064 - accuracy: 0.9980 - val_loss: 0.3784 - val_accuracy: 0.9286\n",
      "Epoch 40/50\n",
      "1088/1088 [==============================] - 10s 9ms/step - loss: 0.0075 - accuracy: 0.9978 - val_loss: 0.3754 - val_accuracy: 0.9270\n",
      "Epoch 41/50\n",
      "1088/1088 [==============================] - 9s 9ms/step - loss: 0.0058 - accuracy: 0.9983 - val_loss: 0.3756 - val_accuracy: 0.9297\n",
      "Epoch 42/50\n",
      "1088/1088 [==============================] - 11s 10ms/step - loss: 0.0066 - accuracy: 0.9978 - val_loss: 0.4806 - val_accuracy: 0.9200\n",
      "Epoch 43/50\n",
      "1088/1088 [==============================] - 10s 9ms/step - loss: 0.0078 - accuracy: 0.9972 - val_loss: 0.4564 - val_accuracy: 0.9150\n",
      "Epoch 44/50\n",
      "1088/1088 [==============================] - 10s 9ms/step - loss: 0.0062 - accuracy: 0.9978 - val_loss: 0.3642 - val_accuracy: 0.9308\n",
      "Epoch 45/50\n",
      "1088/1088 [==============================] - 10s 9ms/step - loss: 0.0014 - accuracy: 0.9997 - val_loss: 0.3677 - val_accuracy: 0.9295\n",
      "Epoch 46/50\n",
      "1088/1088 [==============================] - 10s 9ms/step - loss: 6.0958e-04 - accuracy: 0.9999 - val_loss: 0.3551 - val_accuracy: 0.9322\n",
      "Epoch 47/50\n",
      "1088/1088 [==============================] - 10s 9ms/step - loss: 0.0165 - accuracy: 0.9945 - val_loss: 0.3928 - val_accuracy: 0.9240\n",
      "Epoch 48/50\n",
      "1088/1088 [==============================] - 10s 9ms/step - loss: 0.0046 - accuracy: 0.9986 - val_loss: 0.3687 - val_accuracy: 0.9327\n",
      "Epoch 49/50\n",
      "1088/1088 [==============================] - 9s 9ms/step - loss: 0.0052 - accuracy: 0.9983 - val_loss: 0.4116 - val_accuracy: 0.9277\n",
      "Epoch 50/50\n",
      "1088/1088 [==============================] - 10s 9ms/step - loss: 0.0023 - accuracy: 0.9996 - val_loss: 0.3912 - val_accuracy: 0.9304\n",
      "395/395 [==============================] - 1s 3ms/step - loss: 0.5990 - accuracy: 0.9040\n",
      "Pérdida en datos de prueba: 0.5990036129951477\n",
      "Precisión en datos de prueba: 0.9039588570594788\n"
     ]
    }
   ],
   "source": [
    "modelo_LeNet.compile(optimizer=Adam(learning_rate=0.001), loss='categorical_crossentropy', metrics=['accuracy'])\n",
    "\n",
    "\n",
    "historia = modelo_LeNet.fit(\n",
    "    X_entrenamiento, \n",
    "    Y_entrenamiento, \n",
    "    epochs=50,\n",
    "    batch_size=32,\n",
    "    validation_data=(X_validacion, Y_validacion)\n",
    "    \n",
    ")\n",
    "\n",
    "# 3. Evaluar el modelo en datos de prueba\n",
    "score = modelo_LeNet.evaluate(X_prueba, Y_prueba, verbose=1)\n",
    "print('Pérdida en datos de prueba:', score[0])\n",
    "print('Precisión en datos de prueba:', score[1])"
   ]
  },
  {
   "cell_type": "code",
   "execution_count": 24,
   "id": "9b1b0707-6db7-4a6d-9bf1-bd10f0f8cc94",
   "metadata": {},
   "outputs": [
    {
     "data": {
      "text/html": [
       "<div>\n",
       "<style scoped>\n",
       "    .dataframe tbody tr th:only-of-type {\n",
       "        vertical-align: middle;\n",
       "    }\n",
       "\n",
       "    .dataframe tbody tr th {\n",
       "        vertical-align: top;\n",
       "    }\n",
       "\n",
       "    .dataframe thead th {\n",
       "        text-align: right;\n",
       "    }\n",
       "</style>\n",
       "<table border=\"1\" class=\"dataframe\">\n",
       "  <thead>\n",
       "    <tr style=\"text-align: right;\">\n",
       "      <th></th>\n",
       "      <th>loss</th>\n",
       "      <th>accuracy</th>\n",
       "      <th>val_loss</th>\n",
       "      <th>val_accuracy</th>\n",
       "    </tr>\n",
       "  </thead>\n",
       "  <tbody>\n",
       "    <tr>\n",
       "      <th>0</th>\n",
       "      <td>0.904199</td>\n",
       "      <td>0.762895</td>\n",
       "      <td>0.490380</td>\n",
       "      <td>0.853061</td>\n",
       "    </tr>\n",
       "    <tr>\n",
       "      <th>1</th>\n",
       "      <td>0.182851</td>\n",
       "      <td>0.956982</td>\n",
       "      <td>0.370020</td>\n",
       "      <td>0.889569</td>\n",
       "    </tr>\n",
       "    <tr>\n",
       "      <th>2</th>\n",
       "      <td>0.095624</td>\n",
       "      <td>0.977930</td>\n",
       "      <td>0.329354</td>\n",
       "      <td>0.898866</td>\n",
       "    </tr>\n",
       "    <tr>\n",
       "      <th>3</th>\n",
       "      <td>0.056693</td>\n",
       "      <td>0.987097</td>\n",
       "      <td>0.301579</td>\n",
       "      <td>0.910884</td>\n",
       "    </tr>\n",
       "    <tr>\n",
       "      <th>4</th>\n",
       "      <td>0.040074</td>\n",
       "      <td>0.991408</td>\n",
       "      <td>0.307627</td>\n",
       "      <td>0.912472</td>\n",
       "    </tr>\n",
       "  </tbody>\n",
       "</table>\n",
       "</div>"
      ],
      "text/plain": [
       "       loss  accuracy  val_loss  val_accuracy\n",
       "0  0.904199  0.762895  0.490380      0.853061\n",
       "1  0.182851  0.956982  0.370020      0.889569\n",
       "2  0.095624  0.977930  0.329354      0.898866\n",
       "3  0.056693  0.987097  0.301579      0.910884\n",
       "4  0.040074  0.991408  0.307627      0.912472"
      ]
     },
     "execution_count": 24,
     "metadata": {},
     "output_type": "execute_result"
    }
   ],
   "source": [
    "perdidas = pd.DataFrame(historia.history)\n",
    "perdidas.head()"
   ]
  },
  {
   "cell_type": "code",
   "execution_count": 25,
   "id": "d0f3ad3f-9bf4-4385-a20a-f6cfdcb49b1d",
   "metadata": {},
   "outputs": [
    {
     "data": {
      "text/plain": [
       "<AxesSubplot:>"
      ]
     },
     "execution_count": 25,
     "metadata": {},
     "output_type": "execute_result"
    },
    {
     "data": {
      "image/png": "[encoded data removed]",
      "text/plain": [
       "<Figure size 432x288 with 1 Axes>"
      ]
     },
     "metadata": {
      "needs_background": "light"
     },
     "output_type": "display_data"
    }
   ],
   "source": [
    "perdidas[['loss','val_loss']].plot()"
   ]
  },
  {
   "cell_type": "code",
   "execution_count": 29,
   "id": "1f2e1624-b217-4c60-b2bd-6b0d7c3cc218",
   "metadata": {},
   "outputs": [
    {
     "data": {
      "text/plain": [
       "['loss', 'accuracy']"
      ]
     },
     "execution_count": 29,
     "metadata": {},
     "output_type": "execute_result"
    }
   ],
   "source": [
    "modelo_LeNet.metrics_names"
   ]
  },
  {
   "cell_type": "code",
   "execution_count": 26,
   "id": "e2042a07-30b7-4f75-bd54-4b2333210265",
   "metadata": {},
   "outputs": [
    {
     "data": {
      "text/plain": [
       "<AxesSubplot:>"
      ]
     },
     "execution_count": 26,
     "metadata": {},
     "output_type": "execute_result"
    },
    {
     "data": {
      "image/png": "[encoded data removed]",
      "text/plain": [
       "<Figure size 432x288 with 1 Axes>"
      ]
     },
     "metadata": {
      "needs_background": "light"
     },
     "output_type": "display_data"
    }
   ],
   "source": [
    "perdidas[['accuracy', 'val_accuracy']].plot()"
   ]
  },
  {
   "cell_type": "code",
   "execution_count": 27,
   "id": "47f451a0-7ab6-4af5-95fb-3227abb25fea",
   "metadata": {},
   "outputs": [
    {
     "data": {
      "image/png": "[encoded data removed]",
      "text/plain": [
       "<Figure size 432x288 with 1 Axes>"
      ]
     },
     "metadata": {
      "needs_background": "light"
     },
     "output_type": "display_data"
    },
    {
     "name": "stdout",
     "output_type": "stream",
     "text": [
      "1/1 [==============================] - 0s 67ms/step\n",
      "Clase predicha: 18\n"
     ]
    }
   ],
   "source": [
    "plt.imshow(datos_prueba['features'][6])\n",
    "plt.title(f\"Label: {datos_prueba['labels'][6]}\")\n",
    "plt.show()\n",
    "\n",
    "# 1. Hacer una predicción para la imagen\n",
    "probabilidades = modelo_LeNet.predict(np.expand_dims(X_prueba[6], axis=0))\n",
    "\n",
    "# 2. Obtener la clase con la mayor probabilidad\n",
    "clase_predicha = np.argmax(probabilidades, axis=-1)[0]\n",
    "\n",
    "print(\"Clase predicha:\", clase_predicha)"
   ]
  },
  {
   "cell_type": "code",
   "execution_count": 28,
   "id": "b6fea778-9d48-47e3-9304-9ca7e73be69a",
   "metadata": {},
   "outputs": [
    {
     "name": "stdout",
     "output_type": "stream",
     "text": [
      "395/395 [==============================] - 1s 3ms/step\n",
      "Precision: 0.9065689488730508\n",
      "Recall: 0.9039588281868567\n",
      "F1-Score: 0.9032124886116157\n"
     ]
    }
   ],
   "source": [
    "# Realizar predicciones con el modelo\n",
    "y_pred = modelo_LeNet.predict(X_prueba)\n",
    "y_pred_classes = np.argmax(y_pred, axis=1)  # Convertir las probabilidades predichas en etiquetas de clase\n",
    "\n",
    "# Convertir las etiquetas one-hot en etiquetas de clase\n",
    "y_true = np.argmax(Y_prueba, axis=1)\n",
    "\n",
    "# Calcular métricas\n",
    "precision = precision_score(y_true, y_pred_classes, average='weighted')\n",
    "recall = recall_score(y_true, y_pred_classes, average='weighted')\n",
    "f1 = f1_score(y_true, y_pred_classes, average='weighted')\n",
    "\n",
    "print(f'Precision: {precision}')\n",
    "print(f'Recall: {recall}')\n",
    "print(f'F1-Score: {f1}')"
   ]
  },
  {
   "cell_type": "markdown",
   "id": "4137e6df-7545-4900-9146-357d9b5c5868",
   "metadata": {},
   "source": [
    "## Métricas de Evaluación:\n",
    "\n",
    "Además de la precisión, es útil observar otras métricas como:\n",
    "\n",
    "- **Precisión**: Proporción de identificaciones positivas que fueron correctas.\n",
    "- **Recall (Sensibilidad)**: Proporción de positivos reales que se identificaron correctamente.\n",
    "- **F1-Score**: Media armónica de Precisión y Recall, proporcionando un equilibrio entre ambas métricas."
   ]
  },
  {
   "cell_type": "markdown",
   "id": "923eeb78-2ce8-4548-b7f9-86e37f4ebf85",
   "metadata": {
    "tags": []
   },
   "source": [
    "## MODELO CON MODIFICACIONES:"
   ]
  },
  {
   "cell_type": "markdown",
   "id": "86b0440d-82fc-4fa2-b135-5bacb1e23e65",
   "metadata": {},
   "source": [
    "## Modelo LeNet Modificado:\n",
    "\n",
    "Se ha adaptado la arquitectura LeNet para incorporar técnicas modernas de regularización y normalización con el objetivo de mejorar el desempeño y prevenir el sobreajuste. A continuación, se describen las adiciones:\n",
    "\n",
    "1. **Batch Normalization**: \n",
    "   - Se ha añadido una capa de *Batch Normalization* después de cada capa convolucional y antes de las capas densas. \n",
    "   - Esta técnica permite normalizar las activaciones de la capa anterior, es decir, transformar y escalar las activaciones para que tengan una media de cero y una desviación estándar de uno. \n",
    "   - Ayuda a acelerar el entrenamiento y puede tener un efecto de regularización, reduciendo la necesidad de otros métodos de regularización como Dropout.\n",
    "\n",
    "2. **Dropout**:\n",
    "   - Se ha incorporado una capa de *Dropout* después de cada capa de *Batch Normalization*.\n",
    "   - El Dropout es una técnica de regularización que \"desactiva\" aleatoriamente una proporción de neuronas durante el entrenamiento. En este caso, se ha configurado para desactivar el 30% de las neuronas.\n",
    "   - Ayuda a prevenir el sobreajuste al evitar que el modelo dependa demasiado de cualquier neurona individual.\n",
    "\n",
    "3. **Early Stopping**:\n",
    "   - Se ha implementado un mecanismo de detención temprana para finalizar el entrenamiento si el modelo no mejora después de un cierto número de épocas (en este caso, 5 épocas consecutivas). \n",
    "   - Esto ayuda a evitar el sobreajuste y a reducir el tiempo de entrenamiento."
   ]
  },
  {
   "cell_type": "code",
   "execution_count": 43,
   "id": "50d1de22-5a9d-41b7-93ca-927478c9da15",
   "metadata": {},
   "outputs": [],
   "source": [
    "modelo_LeNet_modificado = Sequential()\n",
    "\n",
    "# Capa convolucional 1\n",
    "modelo_LeNet_modificado.add(Conv2D(6, kernel_size=(5, 5), strides=(1, 1), activation='tanh', input_shape=(32, 32, 3), padding=\"same\"))\n",
    "modelo_LeNet_modificado.add(BatchNormalization())\n",
    "modelo_LeNet_modificado.add(Dropout(0.3))\n",
    "\n",
    "# Capa de subsampling (pooling) 1\n",
    "modelo_LeNet_modificado.add(AveragePooling2D(pool_size=(2, 2), strides=(2, 2), padding='valid'))\n",
    "\n",
    "# Capa convolucional 2\n",
    "modelo_LeNet_modificado.add(Conv2D(16, kernel_size=(5, 5), strides=(1, 1), activation='tanh', padding='valid'))\n",
    "modelo_LeNet_modificado.add(BatchNormalization())\n",
    "modelo_LeNet_modificado.add(Dropout(0.3))\n",
    "\n",
    "# Capa de subsampling (pooling) 2\n",
    "modelo_LeNet_modificado.add(AveragePooling2D(pool_size=(2, 2), strides=(2, 2), padding='valid'))\n",
    "\n",
    "# Aplanar\n",
    "modelo_LeNet_modificado.add(Flatten())\n",
    "\n",
    "# Capa completamente conectada (Dense) 1\n",
    "modelo_LeNet_modificado.add(Dense(120, activation='tanh'))\n",
    "modelo_LeNet_modificado.add(BatchNormalization())\n",
    "modelo_LeNet_modificado.add(Dropout(0.3))\n",
    "\n",
    "# Capa completamente conectada (Dense) 2\n",
    "modelo_LeNet_modificado.add(Dense(84, activation='tanh'))\n",
    "modelo_LeNet_modificado.add(BatchNormalization())\n",
    "modelo_LeNet_modificado.add(Dropout(0.3))\n",
    "\n",
    "# Capa de salida\n",
    "modelo_LeNet_modificado.add(Dense(43, activation='softmax'))\n",
    "\n",
    "# Definición del callback de EarlyStopping\n",
    "early_stopping = EarlyStopping(monitor='val_loss', patience=5)\n",
    "\n",
    "modelo_LeNet_modificado.compile(optimizer=Adam(), loss='categorical_crossentropy', metrics=['accuracy'])"
   ]
  },
  {
   "cell_type": "code",
   "execution_count": 44,
   "id": "eefa0aac-feef-4712-b2c4-558664172bfc",
   "metadata": {},
   "outputs": [
    {
     "name": "stdout",
     "output_type": "stream",
     "text": [
      "Model: \"sequential_2\"\n",
      "_________________________________________________________________\n",
      " Layer (type)                Output Shape              Param #   \n",
      "=================================================================\n",
      " conv2d_4 (Conv2D)           (None, 32, 32, 6)         456       \n",
      "                                                                 \n",
      " batch_normalization_4 (Batc  (None, 32, 32, 6)        24        \n",
      " hNormalization)                                                 \n",
      "                                                                 \n",
      " dropout_4 (Dropout)         (None, 32, 32, 6)         0         \n",
      "                                                                 \n",
      " average_pooling2d_4 (Averag  (None, 16, 16, 6)        0         \n",
      " ePooling2D)                                                     \n",
      "                                                                 \n",
      " conv2d_5 (Conv2D)           (None, 12, 12, 16)        2416      \n",
      "                                                                 \n",
      " batch_normalization_5 (Batc  (None, 12, 12, 16)       64        \n",
      " hNormalization)                                                 \n",
      "                                                                 \n",
      " dropout_5 (Dropout)         (None, 12, 12, 16)        0         \n",
      "                                                                 \n",
      " average_pooling2d_5 (Averag  (None, 6, 6, 16)         0         \n",
      " ePooling2D)                                                     \n",
      "                                                                 \n",
      " flatten_2 (Flatten)         (None, 576)               0         \n",
      "                                                                 \n",
      " dense_6 (Dense)             (None, 120)               69240     \n",
      "                                                                 \n",
      " batch_normalization_6 (Batc  (None, 120)              480       \n",
      " hNormalization)                                                 \n",
      "                                                                 \n",
      " dropout_6 (Dropout)         (None, 120)               0         \n",
      "                                                                 \n",
      " dense_7 (Dense)             (None, 84)                10164     \n",
      "                                                                 \n",
      " batch_normalization_7 (Batc  (None, 84)               336       \n",
      " hNormalization)                                                 \n",
      "                                                                 \n",
      " dropout_7 (Dropout)         (None, 84)                0         \n",
      "                                                                 \n",
      " dense_8 (Dense)             (None, 43)                3655      \n",
      "                                                                 \n",
      "=================================================================\n",
      "Total params: 86,835\n",
      "Trainable params: 86,383\n",
      "Non-trainable params: 452\n",
      "_________________________________________________________________\n"
     ]
    }
   ],
   "source": [
    "# Resumen del modelo\n",
    "modelo_LeNet_modificado.summary()"
   ]
  },
  {
   "cell_type": "code",
   "execution_count": 45,
   "id": "568c4fae-0aff-40ea-ad43-4ddd03219b00",
   "metadata": {},
   "outputs": [
    {
     "name": "stdout",
     "output_type": "stream",
     "text": [
      "Epoch 1/50\n",
      "1088/1088 [==============================] - 17s 14ms/step - loss: 1.2883 - accuracy: 0.6413 - val_loss: 0.4467 - val_accuracy: 0.8565\n",
      "Epoch 2/50\n",
      "1088/1088 [==============================] - 16s 14ms/step - loss: 0.5017 - accuracy: 0.8502 - val_loss: 0.3369 - val_accuracy: 0.8925\n",
      "Epoch 3/50\n",
      "1088/1088 [==============================] - 16s 15ms/step - loss: 0.3569 - accuracy: 0.8924 - val_loss: 0.2971 - val_accuracy: 0.9086\n",
      "Epoch 4/50\n",
      "1088/1088 [==============================] - 16s 15ms/step - loss: 0.3007 - accuracy: 0.9091 - val_loss: 0.2838 - val_accuracy: 0.9150\n",
      "Epoch 5/50\n",
      "1088/1088 [==============================] - 16s 15ms/step - loss: 0.2553 - accuracy: 0.9238 - val_loss: 0.2194 - val_accuracy: 0.9299\n",
      "Epoch 6/50\n",
      "1088/1088 [==============================] - 16s 15ms/step - loss: 0.2398 - accuracy: 0.9270 - val_loss: 0.2025 - val_accuracy: 0.9381\n",
      "Epoch 7/50\n",
      "1088/1088 [==============================] - 16s 15ms/step - loss: 0.2109 - accuracy: 0.9360 - val_loss: 0.2243 - val_accuracy: 0.9395\n",
      "Epoch 8/50\n",
      "1088/1088 [==============================] - 16s 15ms/step - loss: 0.1980 - accuracy: 0.9404 - val_loss: 0.2337 - val_accuracy: 0.9331\n",
      "Epoch 9/50\n",
      "1088/1088 [==============================] - 16s 15ms/step - loss: 0.1877 - accuracy: 0.9443 - val_loss: 0.2410 - val_accuracy: 0.9327\n",
      "Epoch 10/50\n",
      "1088/1088 [==============================] - 16s 15ms/step - loss: 0.1745 - accuracy: 0.9472 - val_loss: 0.1993 - val_accuracy: 0.9426\n",
      "Epoch 11/50\n",
      "1088/1088 [==============================] - 17s 15ms/step - loss: 0.1705 - accuracy: 0.9473 - val_loss: 0.2072 - val_accuracy: 0.9417\n",
      "Epoch 12/50\n",
      "1088/1088 [==============================] - 16s 15ms/step - loss: 0.1640 - accuracy: 0.9509 - val_loss: 0.2100 - val_accuracy: 0.9433\n",
      "Epoch 13/50\n",
      "1088/1088 [==============================] - 16s 15ms/step - loss: 0.1549 - accuracy: 0.9525 - val_loss: 0.1787 - val_accuracy: 0.9497\n",
      "Epoch 14/50\n",
      "1088/1088 [==============================] - 16s 15ms/step - loss: 0.1445 - accuracy: 0.9564 - val_loss: 0.2025 - val_accuracy: 0.9492\n",
      "Epoch 15/50\n",
      "1088/1088 [==============================] - 16s 15ms/step - loss: 0.1409 - accuracy: 0.9570 - val_loss: 0.1980 - val_accuracy: 0.9474\n",
      "Epoch 16/50\n",
      "1088/1088 [==============================] - 16s 15ms/step - loss: 0.1391 - accuracy: 0.9574 - val_loss: 0.1567 - val_accuracy: 0.9562\n",
      "Epoch 17/50\n",
      "1088/1088 [==============================] - 16s 15ms/step - loss: 0.1302 - accuracy: 0.9599 - val_loss: 0.1793 - val_accuracy: 0.9542\n",
      "Epoch 18/50\n",
      "1088/1088 [==============================] - 16s 15ms/step - loss: 0.1295 - accuracy: 0.9605 - val_loss: 0.2040 - val_accuracy: 0.9467\n",
      "Epoch 19/50\n",
      "1088/1088 [==============================] - 16s 15ms/step - loss: 0.1245 - accuracy: 0.9618 - val_loss: 0.1816 - val_accuracy: 0.9494\n",
      "Epoch 20/50\n",
      "1088/1088 [==============================] - 16s 14ms/step - loss: 0.1259 - accuracy: 0.9610 - val_loss: 0.1837 - val_accuracy: 0.9463\n",
      "Epoch 21/50\n",
      "1088/1088 [==============================] - 16s 15ms/step - loss: 0.1210 - accuracy: 0.9624 - val_loss: 0.1646 - val_accuracy: 0.9578\n",
      "395/395 [==============================] - 2s 4ms/step - loss: 0.2977 - accuracy: 0.9359\n",
      "Pérdida en datos de prueba: 0.29773813486099243\n",
      "Precisión en datos de prueba: 0.9358670115470886\n"
     ]
    }
   ],
   "source": [
    "# 2. Entrenar el modelo (asegúrate de tener tus datos y etiquetas definidos como X_entrenamiento, Y_entrenamiento, etc.)\n",
    "# También puedes usar un generador de datos si lo tienes configurado.\n",
    "historia_mod = modelo_LeNet_modificado.fit(\n",
    "    X_entrenamiento, Y_entrenamiento, \n",
    "    epochs=50,\n",
    "    batch_size=32,\n",
    "    validation_data=(X_validacion, Y_validacion), \n",
    "    callbacks=[early_stopping]\n",
    ")\n",
    "\n",
    "# 3. Evaluar el modelo en datos de prueba\n",
    "score = modelo_LeNet_modificado.evaluate(X_prueba, Y_prueba, verbose=1)\n",
    "print('Pérdida en datos de prueba:', score[0])\n",
    "print('Precisión en datos de prueba:', score[1])"
   ]
  },
  {
   "cell_type": "code",
   "execution_count": 46,
   "id": "7e153faa-61dd-46d5-84d5-a40259c732f9",
   "metadata": {},
   "outputs": [
    {
     "data": {
      "text/html": [
       "<div>\n",
       "<style scoped>\n",
       "    .dataframe tbody tr th:only-of-type {\n",
       "        vertical-align: middle;\n",
       "    }\n",
       "\n",
       "    .dataframe tbody tr th {\n",
       "        vertical-align: top;\n",
       "    }\n",
       "\n",
       "    .dataframe thead th {\n",
       "        text-align: right;\n",
       "    }\n",
       "</style>\n",
       "<table border=\"1\" class=\"dataframe\">\n",
       "  <thead>\n",
       "    <tr style=\"text-align: right;\">\n",
       "      <th></th>\n",
       "      <th>loss</th>\n",
       "      <th>accuracy</th>\n",
       "      <th>val_loss</th>\n",
       "      <th>val_accuracy</th>\n",
       "    </tr>\n",
       "  </thead>\n",
       "  <tbody>\n",
       "    <tr>\n",
       "      <th>0</th>\n",
       "      <td>1.288320</td>\n",
       "      <td>0.641283</td>\n",
       "      <td>0.446667</td>\n",
       "      <td>0.856463</td>\n",
       "    </tr>\n",
       "    <tr>\n",
       "      <th>1</th>\n",
       "      <td>0.501724</td>\n",
       "      <td>0.850197</td>\n",
       "      <td>0.336947</td>\n",
       "      <td>0.892517</td>\n",
       "    </tr>\n",
       "    <tr>\n",
       "      <th>2</th>\n",
       "      <td>0.356890</td>\n",
       "      <td>0.892382</td>\n",
       "      <td>0.297060</td>\n",
       "      <td>0.908617</td>\n",
       "    </tr>\n",
       "    <tr>\n",
       "      <th>3</th>\n",
       "      <td>0.300693</td>\n",
       "      <td>0.909135</td>\n",
       "      <td>0.283796</td>\n",
       "      <td>0.914966</td>\n",
       "    </tr>\n",
       "    <tr>\n",
       "      <th>4</th>\n",
       "      <td>0.255314</td>\n",
       "      <td>0.923791</td>\n",
       "      <td>0.219439</td>\n",
       "      <td>0.929932</td>\n",
       "    </tr>\n",
       "  </tbody>\n",
       "</table>\n",
       "</div>"
      ],
      "text/plain": [
       "       loss  accuracy  val_loss  val_accuracy\n",
       "0  1.288320  0.641283  0.446667      0.856463\n",
       "1  0.501724  0.850197  0.336947      0.892517\n",
       "2  0.356890  0.892382  0.297060      0.908617\n",
       "3  0.300693  0.909135  0.283796      0.914966\n",
       "4  0.255314  0.923791  0.219439      0.929932"
      ]
     },
     "execution_count": 46,
     "metadata": {},
     "output_type": "execute_result"
    }
   ],
   "source": [
    "perdidas_mod = pd.DataFrame(historia_mod.history)\n",
    "perdidas_mod.head()"
   ]
  },
  {
   "cell_type": "code",
   "execution_count": 47,
   "id": "2e74c4eb-a4ec-45ba-a85a-f2d2a6bbae5d",
   "metadata": {},
   "outputs": [
    {
     "data": {
      "text/plain": [
       "<AxesSubplot:>"
      ]
     },
     "execution_count": 47,
     "metadata": {},
     "output_type": "execute_result"
    },
    {
     "data": {
      "image/png": "[encoded data removed]",
      "text/plain": [
       "<Figure size 432x288 with 1 Axes>"
      ]
     },
     "metadata": {
      "needs_background": "light"
     },
     "output_type": "display_data"
    }
   ],
   "source": [
    "perdidas_mod[['loss','val_loss']].plot()"
   ]
  },
  {
   "cell_type": "code",
   "execution_count": 48,
   "id": "740683c9-8808-4068-ae7d-301099d4f683",
   "metadata": {},
   "outputs": [
    {
     "data": {
      "text/plain": [
       "<AxesSubplot:>"
      ]
     },
     "execution_count": 48,
     "metadata": {},
     "output_type": "execute_result"
    },
    {
     "data": {
      "image/png": "[encoded data removed]",
      "text/plain": [
       "<Figure size 432x288 with 1 Axes>"
      ]
     },
     "metadata": {
      "needs_background": "light"
     },
     "output_type": "display_data"
    }
   ],
   "source": [
    "perdidas_mod[['accuracy', 'val_accuracy']].plot()"
   ]
  },
  {
   "cell_type": "code",
   "execution_count": 49,
   "id": "0f21a7b8-49ca-4240-ba0f-397f86fab956",
   "metadata": {},
   "outputs": [
    {
     "data": {
      "image/png": "[encoded data removed]",
      "text/plain": [
       "<Figure size 432x288 with 1 Axes>"
      ]
     },
     "metadata": {
      "needs_background": "light"
     },
     "output_type": "display_data"
    },
    {
     "name": "stdout",
     "output_type": "stream",
     "text": [
      "1/1 [==============================] - 0s 75ms/step\n",
      "Clase predicha: 12\n"
     ]
    }
   ],
   "source": [
    "plt.imshow(datos_prueba['features'][7])\n",
    "plt.title(f\"Label: {datos_prueba['labels'][7]}\")\n",
    "plt.show()\n",
    "\n",
    "# 1. Hacer una predicción para la imagen\n",
    "probabilidades = modelo_LeNet_modificado.predict(np.expand_dims(X_prueba[7], axis=0))\n",
    "\n",
    "# 2. Obtener la clase con la mayor probabilidad\n",
    "clase_predicha = np.argmax(probabilidades, axis=-1)[0]\n",
    "\n",
    "print(\"Clase predicha:\", clase_predicha)"
   ]
  },
  {
   "cell_type": "code",
   "execution_count": 50,
   "id": "66095e2d-d825-41a6-8c19-48251ddbf6c0",
   "metadata": {},
   "outputs": [
    {
     "name": "stdout",
     "output_type": "stream",
     "text": [
      "395/395 [==============================] - 1s 4ms/step\n",
      "Precision: 0.936604764929874\n",
      "Recall: 0.9358669833729216\n",
      "F1-Score: 0.9351820427497542\n"
     ]
    }
   ],
   "source": [
    "# 1. Realizar predicciones con el modelo\n",
    "y_pred = modelo_LeNet_modificado.predict(X_prueba)\n",
    "y_pred_classes = np.argmax(y_pred, axis=1)  # Convertir las probabilidades predichas en etiquetas de clase\n",
    "\n",
    "# 2. Convertir las etiquetas one-hot en etiquetas de clase\n",
    "y_true = np.argmax(Y_prueba, axis=1)\n",
    "\n",
    "# 3. Calcular métricas\n",
    "f1 = f1_score(y_true, y_pred_classes, average='weighted')\n",
    "recall = recall_score(y_true, y_pred_classes, average='weighted')\n",
    "precision = precision_score(y_true, y_pred_classes, average='weighted')\n",
    "\n",
    "print(f'Precision: {precision}')\n",
    "print(f'Recall: {recall}')\n",
    "print(f'F1-Score: {f1}')"
   ]
  },
  {
   "cell_type": "markdown",
   "id": "bdd30b4b-267d-4d42-8f3c-36e63b7318d2",
   "metadata": {},
   "source": [
    "## Discusión de Resultados\n",
    "\n",
    "Se evaluaron dos modelos basados en la arquitectura LeNet: el original y una versión modificada. A continuación, se presentan los resultados obtenidos:\n",
    "\n",
    "### Modelo LeNet Original:\n",
    "- **Precisión**: 0.9066\n",
    "- **Recall**: 0.9040\n",
    "- **F1-Score**: 0.9032\n",
    "\n",
    "### Modelo LeNet Modificado:\n",
    "- **Precisión**: 0.9366\n",
    "- **Recall**: 0.9359\n",
    "- **F1-Score**: 0.9352\n",
    "\n",
    "Al analizar las métricas de ambos modelos, se observa que el modelo LeNet modificado supera al original en todas ellas. Estas mejoras son sustanciales, con un incremento aproximado del 3% en cada métrica.\n",
    "\n",
    "La versión modificada incorpora capas de Batch Normalization y Dropout, lo que ayuda a mejorar la regularización del modelo y a prevenir el sobreajuste. Además, el uso de un mecanismo de detención temprana durante el entrenamiento asegura que el modelo no continúe entrenando más allá del punto en el que el rendimiento en el conjunto de validación empiece a degradarse. \n",
    "\n",
    "La superioridad del modelo modificado en términos de rendimiento indica que las adaptaciones hechas a la arquitectura LeNet original, basadas en técnicas modernas, son efectivas para mejorar la clasificación de señales de tráfico. Esta comparación resalta la importancia de considerar técnicas avanzadas de regularización y optimización al diseñar y entrenar redes neuronales para tareas de clasificación.\n"
   ]
  }
 ],
 "metadata": {
  "kernelspec": {
   "display_name": "Python 3 (ipykernel)",
   "language": "python",
   "name": "python3"
  },
  "language_info": {
   "codemirror_mode": {
    "name": "ipython",
    "version": 3
   },
   "file_extension": ".py",
   "mimetype": "text/x-python",
   "name": "python",
   "nbconvert_exporter": "python",
   "pygments_lexer": "ipython3",
   "version": "3.9.7"
  }
 },
 "nbformat": 4,
 "nbformat_minor": 5
}
