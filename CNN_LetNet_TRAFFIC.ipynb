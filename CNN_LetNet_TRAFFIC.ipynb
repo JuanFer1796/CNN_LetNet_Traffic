{
 "cells": [
  {
   "cell_type": "code",
   "execution_count": 4,
   "id": "c704c6e1-7a44-4bb4-86dc-7c837eaa84a8",
   "metadata": {},
   "outputs": [
    {
     "data": {
      "text/plain": [
       "'\\nEsta celda importa las bibliotecas necesarias para el proyecto:\\n- pandas y numpy para la manipulación de datos\\n- seaborn y matplotlib para la visualización de datos\\n- os y pickle para operaciones relacionadas con el sistema y la serialización de objetos, respectivamente.\\n'"
      ]
     },
     "execution_count": 4,
     "metadata": {},
     "output_type": "execute_result"
    }
   ],
   "source": [
    "import pandas as pd\n",
    "import numpy as np\n",
    "import seaborn as sns\n",
    "import matplotlib.pyplot as plt\n",
    "from matplotlib.image import imread\n",
    "import os\n",
    "import pickle\n",
    "\n",
    "\"\"\"\n",
    "Esta celda importa las bibliotecas necesarias para el proyecto:\n",
    "- pandas y numpy para la manipulación de datos\n",
    "- seaborn y matplotlib para la visualización de datos\n",
    "- os y pickle para operaciones relacionadas con el sistema y la serialización de objetos, respectivamente.\n",
    "\"\"\""
   ]
  },
  {
   "cell_type": "code",
   "execution_count": 5,
   "id": "3ce7124f-2d5c-44f2-9b80-e5ecda649014",
   "metadata": {},
   "outputs": [
    {
     "data": {
      "text/plain": [
       "'\\nEsta celda importa funciones y clases específicas de Keras para la creación y entrenamiento de modelos de redes neuronales:\\n- Sequential para la construcción del modelo\\n- Varios tipos de capas (Dense, Conv2D, MaxPooling2D, etc.) para definir la arquitectura de la red\\n- to_categorical para convertir etiquetas enteras en representaciones categóricas (one-hot).\\n'"
      ]
     },
     "execution_count": 5,
     "metadata": {},
     "output_type": "execute_result"
    }
   ],
   "source": [
    "from tensorflow.keras.models import Sequential\n",
    "from tensorflow.keras.layers import Conv2D, AveragePooling2D, Flatten, Dense, Dropout, BatchNormalization\n",
    "from tensorflow.keras.callbacks import EarlyStopping\n",
    "from tensorflow.keras.utils import to_categorical\n",
    "from tensorflow.keras.optimizers import Adam\n",
    "from sklearn.metrics import precision_score, recall_score, f1_score\n",
    "\n",
    "\"\"\"\n",
    "Esta celda importa funciones y clases específicas de Keras para la creación y entrenamiento de modelos de redes neuronales:\n",
    "- Sequential para la construcción del modelo\n",
    "- Varios tipos de capas (Dense, Conv2D, MaxPooling2D, etc.) para definir la arquitectura de la red\n",
    "- to_categorical para convertir etiquetas enteras en representaciones categóricas (one-hot).\n",
    "\"\"\""
   ]
  },
  {
   "cell_type": "code",
   "execution_count": 6,
   "id": "49629deb-91dd-45e8-a8cb-573397c3fc52",
   "metadata": {},
   "outputs": [
    {
     "data": {
      "text/plain": [
       "'\\nEsta celda define una variable que contiene la ruta del directorio donde se encuentran los datos para el proyecto.\\n'"
      ]
     },
     "execution_count": 6,
     "metadata": {},
     "output_type": "execute_result"
    }
   ],
   "source": [
    "dir_datos = \"LABORATORIO2_DS\"\n",
    "\n",
    "\"\"\"\n",
    "Esta celda define una variable que contiene la ruta del directorio donde se encuentran los datos para el proyecto.\n",
    "\"\"\""
   ]
  },
  {
   "cell_type": "code",
   "execution_count": 7,
   "id": "bac2c105-7297-4778-a5b6-b9b3f84fa86f",
   "metadata": {},
   "outputs": [
    {
     "data": {
      "text/plain": [
       "'.ipynb_checkpoints'"
      ]
     },
     "execution_count": 7,
     "metadata": {},
     "output_type": "execute_result"
    }
   ],
   "source": [
    "os.listdir(dir_datos)[0]"
   ]
  },
  {
   "cell_type": "code",
   "execution_count": 8,
   "id": "a9bb6d85-fbf7-438d-8a25-400bec0a0aa1",
   "metadata": {},
   "outputs": [],
   "source": [
    "trayecto_test = dir_datos + '/prueba.p'\n",
    "trayecto_train = dir_datos + '/entrenamiento.p'\n",
    "trayecto_val = dir_datos + '/validacion.p'"
   ]
  },
  {
   "cell_type": "code",
   "execution_count": 9,
   "id": "32e275cf-beb0-4aff-977b-7e0c35e1d381",
   "metadata": {},
   "outputs": [],
   "source": [
    "def cargar_datos(ruta):\n",
    "    with open(ruta, 'rb') as file:\n",
    "        datos = pickle.load(file)\n",
    "    return datos"
   ]
  },
  {
   "cell_type": "code",
   "execution_count": 10,
   "id": "f9d478ba-e83e-4591-8fb4-67cbab329050",
   "metadata": {},
   "outputs": [],
   "source": [
    "datos_prueba = cargar_datos(trayecto_test)\n",
    "datos_entrenamiento = cargar_datos(trayecto_train)\n",
    "datos_validacion = cargar_datos(trayecto_val)"
   ]
  },
  {
   "cell_type": "code",
   "execution_count": 11,
   "id": "8ed133ef-e2b0-4f50-9cbf-61bad1877eef",
   "metadata": {},
   "outputs": [
    {
     "name": "stdout",
     "output_type": "stream",
     "text": [
      "<class 'dict'>\n",
      "dict_keys(['coords', 'labels', 'features', 'sizes'])\n"
     ]
    }
   ],
   "source": [
    "# After loading the 'images' from the pickle file:\n",
    "\n",
    "# Print the type of the object\n",
    "print(type(datos_entrenamiento))\n",
    "\n",
    "# If it's a dictionary, print its keys\n",
    "if isinstance(datos_entrenamiento, dict):\n",
    "    print(datos_entrenamiento.keys())"
   ]
  },
  {
   "cell_type": "code",
   "execution_count": 12,
   "id": "914c3320-1bd0-4932-be55-df661e604bd9",
   "metadata": {},
   "outputs": [
    {
     "name": "stdout",
     "output_type": "stream",
     "text": [
      "coords: Type = <class 'numpy.ndarray'>, Length/Shape = (34799, 4)\n",
      "labels: Type = <class 'numpy.ndarray'>, Length/Shape = (34799,)\n",
      "features: Type = <class 'numpy.ndarray'>, Length/Shape = (34799, 32, 32, 3)\n",
      "sizes: Type = <class 'numpy.ndarray'>, Length/Shape = (34799, 2)\n"
     ]
    }
   ],
   "source": [
    "for key, value in datos_entrenamiento.items():\n",
    "    print(f\"{key}: Type = {type(value)}, Length/Shape = {len(value) if isinstance(value, (list, dict)) else (value.shape if hasattr(value, 'shape') else 'N/A')}\")\n"
   ]
  },
  {
   "cell_type": "code",
   "execution_count": 13,
   "id": "443fa91e-d128-44a7-b07b-ac48c0e4c575",
   "metadata": {},
   "outputs": [
    {
     "data": {
      "image/png": "[encoded data removed]",
      "text/plain": [
       "<Figure size 432x288 with 1 Axes>"
      ]
     },
     "metadata": {
      "needs_background": "light"
     },
     "output_type": "display_data"
    }
   ],
   "source": [
    "plt.imshow(datos_entrenamiento['features'][1])\n",
    "plt.title(f\"Label: {datos_entrenamiento['labels'][1]}\")\n",
    "plt.show()"
   ]
  },
  {
   "cell_type": "code",
   "execution_count": 14,
   "id": "ece31e2a-d63e-4ec8-bf3b-8dbb9106b91f",
   "metadata": {},
   "outputs": [],
   "source": [
    "# 1. Normalizar las imágenes\n",
    "X_entrenamiento = datos_entrenamiento['features'] / 255.0\n",
    "X_prueba = datos_prueba['features'] / 255.0\n",
    "X_validacion = datos_validacion['features'] / 255.0"
   ]
  },
  {
   "cell_type": "code",
   "execution_count": 15,
   "id": "c0929d00-f37d-49aa-a76e-a0f0c08f3503",
   "metadata": {},
   "outputs": [
    {
     "name": "stdout",
     "output_type": "stream",
     "text": [
      "X_entrenamiento shape: (34799, 32, 32, 3)\n",
      "Y_entrenamiento shape: (34799, 43)\n",
      "X_prueba shape: (12630, 32, 32, 3)\n",
      "Y_prueba shape: (12630, 43)\n",
      "X_validacion shape: (4410, 32, 32, 3)\n",
      "Y_validacion shape: (4410, 43)\n"
     ]
    }
   ],
   "source": [
    "# 2. One-Hot Encoding para las etiquetas\n",
    "Y_entrenamiento = to_categorical(datos_entrenamiento['labels'])\n",
    "Y_prueba = to_categorical(datos_prueba['labels'])\n",
    "Y_validacion = to_categorical(datos_validacion['labels'])\n",
    "\n",
    "# Verificar las dimensiones de los datos procesados\n",
    "print(\"X_entrenamiento shape:\", X_entrenamiento.shape)\n",
    "print(\"Y_entrenamiento shape:\", Y_entrenamiento.shape)\n",
    "print(\"X_prueba shape:\", X_prueba.shape)\n",
    "print(\"Y_prueba shape:\", Y_prueba.shape)\n",
    "print(\"X_validacion shape:\", X_validacion.shape)\n",
    "print(\"Y_validacion shape:\", Y_validacion.shape)"
   ]
  },
  {
   "cell_type": "code",
   "execution_count": 16,
   "id": "c25e246f-747d-4fc6-90cd-5d51fe9abc1e",
   "metadata": {},
   "outputs": [
    {
     "data": {
      "image/png": "[encoded data removed]",
      "text/plain": [
       "<Figure size 432x288 with 1 Axes>"
      ]
     },
     "metadata": {
      "needs_background": "light"
     },
     "output_type": "display_data"
    }
   ],
   "source": [
    "# Visualizar distribución de clases\n",
    "unique, counts = np.unique(np.argmax(Y_prueba, axis=1), return_counts=True)\n",
    "plt.bar(unique, counts)\n",
    "plt.title('Distribución de clases en el conjunto de prueba')\n",
    "plt.xlabel('Clases')\n",
    "plt.ylabel('Número de muestras')\n",
    "plt.show()"
   ]
  },
  {
   "cell_type": "code",
   "execution_count": 17,
   "id": "94c1cb88-2e75-4510-a7b9-0aaa74b2058d",
   "metadata": {},
   "outputs": [
    {
     "data": {
      "text/plain": [
       "{0: 60,\n",
       " 1: 720,\n",
       " 2: 750,\n",
       " 3: 450,\n",
       " 4: 660,\n",
       " 5: 630,\n",
       " 6: 150,\n",
       " 7: 450,\n",
       " 8: 450,\n",
       " 9: 480,\n",
       " 10: 660,\n",
       " 11: 420,\n",
       " 12: 690,\n",
       " 13: 720,\n",
       " 14: 270,\n",
       " 15: 210,\n",
       " 16: 150,\n",
       " 17: 360,\n",
       " 18: 390,\n",
       " 19: 60,\n",
       " 20: 90,\n",
       " 21: 90,\n",
       " 22: 120,\n",
       " 23: 150,\n",
       " 24: 90,\n",
       " 25: 480,\n",
       " 26: 180,\n",
       " 27: 60,\n",
       " 28: 150,\n",
       " 29: 90,\n",
       " 30: 150,\n",
       " 31: 270,\n",
       " 32: 60,\n",
       " 33: 210,\n",
       " 34: 120,\n",
       " 35: 390,\n",
       " 36: 120,\n",
       " 37: 60,\n",
       " 38: 690,\n",
       " 39: 90,\n",
       " 40: 90,\n",
       " 41: 60,\n",
       " 42: 90}"
      ]
     },
     "execution_count": 17,
     "metadata": {},
     "output_type": "execute_result"
    }
   ],
   "source": [
    "dict(zip(unique, counts))"
   ]
  },
  {
   "cell_type": "code",
   "execution_count": 18,
   "id": "f4a61fa0-ace9-4844-829b-73facb421515",
   "metadata": {},
   "outputs": [],
   "source": [
    "import sklearn\n",
    "from imblearn.over_sampling import SMOTE\n",
    "\n",
    "# Aplanar las imágenes\n",
    "X_entrenamiento_flattened = X_entrenamiento.reshape(X_entrenamiento.shape[0], -1)\n",
    "Y_entrenamiento_labels = np.argmax(Y_entrenamiento, axis=1)  # Convertir de one-hot a labels\n",
    "\n",
    "# Aplicar SMOTE\n",
    "smote = SMOTE()\n",
    "X_entrenamiento_resampled, Y_entrenamiento_resampled = smote.fit_resample(X_entrenamiento_flattened, Y_entrenamiento_labels)\n",
    "\n",
    "# Reformatear las imágenes a su forma original y las etiquetas a one-hot encoding\n",
    "X_entrenamiento_resampled = X_entrenamiento_resampled.reshape((-1, 32, 32, 3))\n",
    "Y_entrenamiento_resampled = to_categorical(Y_entrenamiento_resampled)\n"
   ]
  },
  {
   "cell_type": "code",
   "execution_count": 19,
   "id": "6d970bde-2286-4331-a0de-8787db19422d",
   "metadata": {},
   "outputs": [
    {
     "data": {
      "image/png": "[encoded data removed]",
      "text/plain": [
       "<Figure size 1080x504 with 1 Axes>"
      ]
     },
     "metadata": {
      "needs_background": "light"
     },
     "output_type": "display_data"
    }
   ],
   "source": [
    "# Convertir de one-hot a labels\n",
    "Y_entrenamiento_resampled_labels = np.argmax(Y_entrenamiento_resampled, axis=1)\n",
    "\n",
    "# Contar las ocurrencias de cada etiqueta\n",
    "unique, counts = np.unique(Y_entrenamiento_resampled_labels, return_counts=True)\n",
    "\n",
    "# Visualizar las ocurrencias\n",
    "plt.figure(figsize=(15,7))\n",
    "plt.bar(unique, counts)\n",
    "plt.title('Distribución de clases después de SMOTE')\n",
    "plt.xlabel('Clase')\n",
    "plt.ylabel('Número de imágenes')\n",
    "plt.xticks(unique)\n",
    "plt.grid(axis='y')\n",
    "plt.show()"
   ]
  },
  {
   "cell_type": "code",
   "execution_count": 20,
   "id": "63ff60e4-1fe4-472f-82c8-e5919dc94857",
   "metadata": {},
   "outputs": [],
   "source": [
    "from keras.preprocessing.image import ImageDataGenerator"
   ]
  },
  {
   "cell_type": "code",
   "execution_count": 21,
   "id": "cdf9a515-8cc8-48e5-bd82-caaf2ef43090",
   "metadata": {},
   "outputs": [],
   "source": [
    "\"\"\"datagen = ImageDataGenerator(\n",
    "    rotation_range=10,         # Pequeñas rotaciones aleatorias\n",
    "    width_shift_range=0.1,     # Desplazamiento horizontal aleatorio\n",
    "    height_shift_range=0.1,    # Desplazamiento vertical aleatorio\n",
    "    zoom_range=0.1,            # Rango de zoom aleatorio\n",
    "    horizontal_flip=True,      # Volteo horizontal aleatorio\n",
    "    fill_mode='nearest'        # Método para rellenar puntos fuera de la imagen original\n",
    ")\"\"\"\n",
    "\n",
    "datagen = ImageDataGenerator(\n",
    "    rotation_range=15,          # Aumentamos el rango de rotación\n",
    "    width_shift_range=0.15,     # Aumentamos el desplazamiento horizontal\n",
    "    height_shift_range=0.15,    # Aumentamos el desplazamiento vertical\n",
    "    zoom_range=0.15,            # Aumentamos el rango de zoom\n",
    "    horizontal_flip=True,       \n",
    "    fill_mode='nearest'         \n",
    ")"
   ]
  },
  {
   "cell_type": "code",
   "execution_count": 22,
   "id": "86542df6-034f-4a22-ab74-02a956f53743",
   "metadata": {},
   "outputs": [],
   "source": [
    "datagen.fit(X_entrenamiento)"
   ]
  },
  {
   "attachments": {
    "5c3d40dd-7b3c-4435-a738-7b6ac721d7e8.png": {
     "image/png": "[encoded data removed]"
    }
   },
   "cell_type": "markdown",
   "id": "77e2e8dc-2036-4455-9fcc-38885510312b",
   "metadata": {},
   "source": [
    "![image.png](attachment:5c3d40dd-7b3c-4435-a738-7b6ac721d7e8.png)"
   ]
  },
  {
   "cell_type": "code",
   "execution_count": 23,
   "id": "31a7718e-bb4b-4647-b0cf-16277f22b3cf",
   "metadata": {},
   "outputs": [],
   "source": [
    "modelo_LeNet = Sequential()\n",
    "# Capa convolucional 1\n",
    "modelo_LeNet.add(Conv2D(6, kernel_size=(5, 5), strides=(1, 1), activation='tanh', input_shape=(32, 32, 3), padding=\"same\"))\n",
    "\n",
    "# Capa de subsampling (pooling) 1\n",
    "modelo_LeNet.add(AveragePooling2D(pool_size=(2, 2), strides=(2, 2), padding='valid'))\n",
    "\n",
    "# Capa convolucional 2\n",
    "modelo_LeNet.add(Conv2D(16, kernel_size=(5, 5), strides=(1, 1), activation='tanh', padding='valid'))\n",
    "\n",
    "# Capa de subsampling (pooling) 2\n",
    "modelo_LeNet.add(AveragePooling2D(pool_size=(2, 2), strides=(2, 2), padding='valid'))\n",
    "\n",
    "# Aplanar\n",
    "modelo_LeNet.add(Flatten())\n",
    "\n",
    "# Capa completamente conectada (Dense) 1\n",
    "modelo_LeNet.add(Dense(120, activation='tanh'))\n",
    "\n",
    "# Capa completamente conectada (Dense) 2\n",
    "modelo_LeNet.add(Dense(84, activation='tanh'))\n",
    "\n",
    "# Capa de salida\n",
    "modelo_LeNet.add(Dense(43, activation='softmax'))"
   ]
  },
  {
   "cell_type": "code",
   "execution_count": 24,
   "id": "4385a2e4-ec6e-4d71-9c4b-6b8d34f739ea",
   "metadata": {},
   "outputs": [],
   "source": [
    "modelo_LeNet.compile(optimizer='adam', loss='categorical_crossentropy', metrics=['accuracy'])"
   ]
  },
  {
   "cell_type": "code",
   "execution_count": 25,
   "id": "6e0c2413-2b50-4d40-a98b-36abe362f425",
   "metadata": {},
   "outputs": [
    {
     "name": "stdout",
     "output_type": "stream",
     "text": [
      "Model: \"sequential\"\n",
      "_________________________________________________________________\n",
      " Layer (type)                Output Shape              Param #   \n",
      "=================================================================\n",
      " conv2d (Conv2D)             (None, 32, 32, 6)         456       \n",
      "                                                                 \n",
      " average_pooling2d (AverageP  (None, 16, 16, 6)        0         \n",
      " ooling2D)                                                       \n",
      "                                                                 \n",
      " conv2d_1 (Conv2D)           (None, 12, 12, 16)        2416      \n",
      "                                                                 \n",
      " average_pooling2d_1 (Averag  (None, 6, 6, 16)         0         \n",
      " ePooling2D)                                                     \n",
      "                                                                 \n",
      " flatten (Flatten)           (None, 576)               0         \n",
      "                                                                 \n",
      " dense (Dense)               (None, 120)               69240     \n",
      "                                                                 \n",
      " dense_1 (Dense)             (None, 84)                10164     \n",
      "                                                                 \n",
      " dense_2 (Dense)             (None, 43)                3655      \n",
      "                                                                 \n",
      "=================================================================\n",
      "Total params: 85,931\n",
      "Trainable params: 85,931\n",
      "Non-trainable params: 0\n",
      "_________________________________________________________________\n"
     ]
    }
   ],
   "source": [
    "# Resumen del modelo\n",
    "modelo_LeNet.summary()"
   ]
  },
  {
   "cell_type": "code",
   "execution_count": 26,
   "id": "a6172b40-69c0-430e-8e0e-d2f142a1f0cd",
   "metadata": {},
   "outputs": [
    {
     "name": "stdout",
     "output_type": "stream",
     "text": [
      "Epoch 1/50\n",
      "1088/1088 [==============================] - 10s 9ms/step - loss: 0.8814 - accuracy: 0.7741 - val_loss: 0.4635 - val_accuracy: 0.8612\n",
      "Epoch 2/50\n",
      "1088/1088 [==============================] - 9s 9ms/step - loss: 0.1666 - accuracy: 0.9615 - val_loss: 0.3650 - val_accuracy: 0.8946\n",
      "Epoch 3/50\n",
      "1088/1088 [==============================] - 10s 9ms/step - loss: 0.0873 - accuracy: 0.9811 - val_loss: 0.3366 - val_accuracy: 0.9041\n",
      "Epoch 4/50\n",
      "1088/1088 [==============================] - 9s 9ms/step - loss: 0.0547 - accuracy: 0.9874 - val_loss: 0.3644 - val_accuracy: 0.9018\n",
      "Epoch 5/50\n",
      "1088/1088 [==============================] - 11s 10ms/step - loss: 0.0362 - accuracy: 0.9919 - val_loss: 0.3327 - val_accuracy: 0.9156\n",
      "Epoch 6/50\n",
      "1088/1088 [==============================] - 10s 9ms/step - loss: 0.0277 - accuracy: 0.9936 - val_loss: 0.4178 - val_accuracy: 0.8927\n",
      "Epoch 7/50\n",
      "1088/1088 [==============================] - 10s 9ms/step - loss: 0.0205 - accuracy: 0.9955 - val_loss: 0.3008 - val_accuracy: 0.9197\n",
      "Epoch 8/50\n",
      "1088/1088 [==============================] - 10s 9ms/step - loss: 0.0174 - accuracy: 0.9956 - val_loss: 0.3632 - val_accuracy: 0.9025\n",
      "Epoch 9/50\n",
      "1088/1088 [==============================] - 10s 10ms/step - loss: 0.0118 - accuracy: 0.9972 - val_loss: 0.3215 - val_accuracy: 0.9224\n",
      "Epoch 10/50\n",
      "1088/1088 [==============================] - 10s 9ms/step - loss: 0.0182 - accuracy: 0.9952 - val_loss: 0.3483 - val_accuracy: 0.9220\n",
      "Epoch 11/50\n",
      "1088/1088 [==============================] - 10s 9ms/step - loss: 0.0131 - accuracy: 0.9964 - val_loss: 0.3442 - val_accuracy: 0.9184\n",
      "Epoch 12/50\n",
      "1088/1088 [==============================] - 10s 9ms/step - loss: 0.0061 - accuracy: 0.9989 - val_loss: 0.3169 - val_accuracy: 0.9268\n",
      "Epoch 13/50\n",
      "1088/1088 [==============================] - 9s 9ms/step - loss: 0.0128 - accuracy: 0.9965 - val_loss: 0.3942 - val_accuracy: 0.9086\n",
      "Epoch 14/50\n",
      "1088/1088 [==============================] - 10s 9ms/step - loss: 0.0109 - accuracy: 0.9971 - val_loss: 0.3860 - val_accuracy: 0.9159\n",
      "Epoch 15/50\n",
      "1088/1088 [==============================] - 9s 9ms/step - loss: 0.0071 - accuracy: 0.9982 - val_loss: 0.3809 - val_accuracy: 0.9127\n",
      "Epoch 16/50\n",
      "1088/1088 [==============================] - 10s 9ms/step - loss: 0.0107 - accuracy: 0.9969 - val_loss: 0.3259 - val_accuracy: 0.9256\n",
      "Epoch 17/50\n",
      "1088/1088 [==============================] - 10s 9ms/step - loss: 0.0097 - accuracy: 0.9973 - val_loss: 0.3297 - val_accuracy: 0.9286\n",
      "Epoch 18/50\n",
      "1088/1088 [==============================] - 10s 9ms/step - loss: 0.0106 - accuracy: 0.9966 - val_loss: 0.4095 - val_accuracy: 0.9150\n",
      "Epoch 19/50\n",
      "1088/1088 [==============================] - 10s 9ms/step - loss: 0.0076 - accuracy: 0.9980 - val_loss: 0.3213 - val_accuracy: 0.9329\n",
      "Epoch 20/50\n",
      "1088/1088 [==============================] - 10s 9ms/step - loss: 0.0063 - accuracy: 0.9983 - val_loss: 0.3584 - val_accuracy: 0.9247\n",
      "Epoch 21/50\n",
      "1088/1088 [==============================] - 10s 10ms/step - loss: 0.0103 - accuracy: 0.9971 - val_loss: 0.4029 - val_accuracy: 0.9190\n",
      "Epoch 22/50\n",
      "1088/1088 [==============================] - 10s 10ms/step - loss: 0.0075 - accuracy: 0.9982 - val_loss: 0.3650 - val_accuracy: 0.9256\n",
      "Epoch 23/50\n",
      "1088/1088 [==============================] - 10s 9ms/step - loss: 0.0026 - accuracy: 0.9996 - val_loss: 0.3682 - val_accuracy: 0.9240\n",
      "Epoch 24/50\n",
      "1088/1088 [==============================] - 10s 9ms/step - loss: 0.0154 - accuracy: 0.9954 - val_loss: 0.4155 - val_accuracy: 0.9141\n",
      "Epoch 25/50\n",
      "1088/1088 [==============================] - 10s 9ms/step - loss: 0.0062 - accuracy: 0.9984 - val_loss: 0.4182 - val_accuracy: 0.9141\n",
      "Epoch 26/50\n",
      "1088/1088 [==============================] - 10s 10ms/step - loss: 0.0057 - accuracy: 0.9984 - val_loss: 0.3659 - val_accuracy: 0.9229\n",
      "Epoch 27/50\n",
      "1088/1088 [==============================] - 10s 9ms/step - loss: 0.0089 - accuracy: 0.9972 - val_loss: 0.3664 - val_accuracy: 0.9236\n",
      "Epoch 28/50\n",
      "1088/1088 [==============================] - 10s 9ms/step - loss: 0.0058 - accuracy: 0.9984 - val_loss: 0.4090 - val_accuracy: 0.9127\n",
      "Epoch 29/50\n",
      "1088/1088 [==============================] - 10s 10ms/step - loss: 0.0071 - accuracy: 0.9981 - val_loss: 0.3607 - val_accuracy: 0.9313\n",
      "Epoch 30/50\n",
      "1088/1088 [==============================] - 10s 9ms/step - loss: 0.0042 - accuracy: 0.9989 - val_loss: 0.4248 - val_accuracy: 0.9224\n",
      "Epoch 31/50\n",
      "1088/1088 [==============================] - 9s 9ms/step - loss: 0.0102 - accuracy: 0.9968 - val_loss: 0.4121 - val_accuracy: 0.9204\n",
      "Epoch 32/50\n",
      "1088/1088 [==============================] - 10s 9ms/step - loss: 0.0038 - accuracy: 0.9989 - val_loss: 0.3698 - val_accuracy: 0.9290\n",
      "Epoch 33/50\n",
      "1088/1088 [==============================] - 10s 9ms/step - loss: 0.0084 - accuracy: 0.9975 - val_loss: 0.3481 - val_accuracy: 0.9243\n",
      "Epoch 34/50\n",
      "1088/1088 [==============================] - 10s 9ms/step - loss: 0.0051 - accuracy: 0.9987 - val_loss: 0.3684 - val_accuracy: 0.9270\n",
      "Epoch 35/50\n",
      "1088/1088 [==============================] - 9s 9ms/step - loss: 0.0024 - accuracy: 0.9994 - val_loss: 0.4160 - val_accuracy: 0.9213\n",
      "Epoch 36/50\n",
      "1088/1088 [==============================] - 10s 9ms/step - loss: 0.0084 - accuracy: 0.9973 - val_loss: 0.3835 - val_accuracy: 0.9161\n",
      "Epoch 37/50\n",
      "1088/1088 [==============================] - 10s 9ms/step - loss: 0.0094 - accuracy: 0.9973 - val_loss: 0.3958 - val_accuracy: 0.9236\n",
      "Epoch 38/50\n",
      "1088/1088 [==============================] - 10s 9ms/step - loss: 0.0044 - accuracy: 0.9988 - val_loss: 0.3989 - val_accuracy: 0.9279\n",
      "Epoch 39/50\n",
      "1088/1088 [==============================] - 10s 9ms/step - loss: 0.0057 - accuracy: 0.9983 - val_loss: 0.4121 - val_accuracy: 0.9213\n",
      "Epoch 40/50\n",
      "1088/1088 [==============================] - 10s 9ms/step - loss: 0.0071 - accuracy: 0.9978 - val_loss: 0.4415 - val_accuracy: 0.9156\n",
      "Epoch 41/50\n",
      "1088/1088 [==============================] - 9s 9ms/step - loss: 0.0060 - accuracy: 0.9982 - val_loss: 0.4140 - val_accuracy: 0.9229\n",
      "Epoch 42/50\n",
      "1088/1088 [==============================] - 10s 9ms/step - loss: 0.0020 - accuracy: 0.9995 - val_loss: 0.4079 - val_accuracy: 0.9256\n",
      "Epoch 43/50\n",
      "1088/1088 [==============================] - 10s 9ms/step - loss: 0.0067 - accuracy: 0.9980 - val_loss: 0.4066 - val_accuracy: 0.9220\n",
      "Epoch 44/50\n",
      "1088/1088 [==============================] - 10s 9ms/step - loss: 0.0083 - accuracy: 0.9976 - val_loss: 0.4062 - val_accuracy: 0.9313\n",
      "Epoch 45/50\n",
      "1088/1088 [==============================] - 10s 9ms/step - loss: 0.0036 - accuracy: 0.9990 - val_loss: 0.4671 - val_accuracy: 0.9209\n",
      "Epoch 46/50\n",
      "1088/1088 [==============================] - 10s 9ms/step - loss: 0.0048 - accuracy: 0.9987 - val_loss: 0.4391 - val_accuracy: 0.9197\n",
      "Epoch 47/50\n",
      "1088/1088 [==============================] - 10s 9ms/step - loss: 0.0073 - accuracy: 0.9978 - val_loss: 0.4328 - val_accuracy: 0.9259\n",
      "Epoch 48/50\n",
      "1088/1088 [==============================] - 10s 9ms/step - loss: 0.0030 - accuracy: 0.9991 - val_loss: 0.4165 - val_accuracy: 0.9218\n",
      "Epoch 49/50\n",
      "1088/1088 [==============================] - 9s 9ms/step - loss: 0.0086 - accuracy: 0.9972 - val_loss: 0.3607 - val_accuracy: 0.9381\n",
      "Epoch 50/50\n",
      "1088/1088 [==============================] - 10s 9ms/step - loss: 0.0028 - accuracy: 0.9993 - val_loss: 0.3904 - val_accuracy: 0.9340\n",
      "395/395 [==============================] - 2s 4ms/step - loss: 0.6429 - accuracy: 0.9034\n",
      "Pérdida en datos de prueba: 0.6428849697113037\n",
      "Precisión en datos de prueba: 0.9034045934677124\n"
     ]
    }
   ],
   "source": [
    "modelo_LeNet.compile(optimizer=Adam(), loss='categorical_crossentropy', metrics=['accuracy'])\n",
    "\n",
    "# 2. Entrenar el modelo \n",
    "# (Suponiendo que ya tienes tus datos y etiquetas definidos como X_entrenamiento, Y_entrenamiento, etc.)\n",
    "historia = modelo_LeNet.fit(\n",
    "    X_entrenamiento, \n",
    "    Y_entrenamiento, \n",
    "    epochs=50,\n",
    "    batch_size=32,\n",
    "    validation_data=(X_validacion, Y_validacion)\n",
    "    # Puedes agregar callbacks si los necesitas\n",
    ")\n",
    "\n",
    "# 3. Evaluar el modelo en datos de prueba\n",
    "score = modelo_LeNet.evaluate(X_prueba, Y_prueba, verbose=1)\n",
    "print('Pérdida en datos de prueba:', score[0])\n",
    "print('Precisión en datos de prueba:', score[1])"
   ]
  },
  {
   "cell_type": "code",
   "execution_count": 27,
   "id": "9b1b0707-6db7-4a6d-9bf1-bd10f0f8cc94",
   "metadata": {},
   "outputs": [
    {
     "data": {
      "text/html": [
       "<div>\n",
       "<style scoped>\n",
       "    .dataframe tbody tr th:only-of-type {\n",
       "        vertical-align: middle;\n",
       "    }\n",
       "\n",
       "    .dataframe tbody tr th {\n",
       "        vertical-align: top;\n",
       "    }\n",
       "\n",
       "    .dataframe thead th {\n",
       "        text-align: right;\n",
       "    }\n",
       "</style>\n",
       "<table border=\"1\" class=\"dataframe\">\n",
       "  <thead>\n",
       "    <tr style=\"text-align: right;\">\n",
       "      <th></th>\n",
       "      <th>loss</th>\n",
       "      <th>accuracy</th>\n",
       "      <th>val_loss</th>\n",
       "      <th>val_accuracy</th>\n",
       "    </tr>\n",
       "  </thead>\n",
       "  <tbody>\n",
       "    <tr>\n",
       "      <th>0</th>\n",
       "      <td>0.881387</td>\n",
       "      <td>0.774131</td>\n",
       "      <td>0.463469</td>\n",
       "      <td>0.861224</td>\n",
       "    </tr>\n",
       "    <tr>\n",
       "      <th>1</th>\n",
       "      <td>0.166552</td>\n",
       "      <td>0.961493</td>\n",
       "      <td>0.365027</td>\n",
       "      <td>0.894558</td>\n",
       "    </tr>\n",
       "    <tr>\n",
       "      <th>2</th>\n",
       "      <td>0.087333</td>\n",
       "      <td>0.981063</td>\n",
       "      <td>0.336623</td>\n",
       "      <td>0.904082</td>\n",
       "    </tr>\n",
       "    <tr>\n",
       "      <th>3</th>\n",
       "      <td>0.054724</td>\n",
       "      <td>0.987442</td>\n",
       "      <td>0.364427</td>\n",
       "      <td>0.901814</td>\n",
       "    </tr>\n",
       "    <tr>\n",
       "      <th>4</th>\n",
       "      <td>0.036227</td>\n",
       "      <td>0.991868</td>\n",
       "      <td>0.332707</td>\n",
       "      <td>0.915646</td>\n",
       "    </tr>\n",
       "  </tbody>\n",
       "</table>\n",
       "</div>"
      ],
      "text/plain": [
       "       loss  accuracy  val_loss  val_accuracy\n",
       "0  0.881387  0.774131  0.463469      0.861224\n",
       "1  0.166552  0.961493  0.365027      0.894558\n",
       "2  0.087333  0.981063  0.336623      0.904082\n",
       "3  0.054724  0.987442  0.364427      0.901814\n",
       "4  0.036227  0.991868  0.332707      0.915646"
      ]
     },
     "execution_count": 27,
     "metadata": {},
     "output_type": "execute_result"
    }
   ],
   "source": [
    "perdidas = pd.DataFrame(historia.history)\n",
    "perdidas.head()"
   ]
  },
  {
   "cell_type": "code",
   "execution_count": 28,
   "id": "d0f3ad3f-9bf4-4385-a20a-f6cfdcb49b1d",
   "metadata": {},
   "outputs": [
    {
     "data": {
      "text/plain": [
       "<AxesSubplot:>"
      ]
     },
     "execution_count": 28,
     "metadata": {},
     "output_type": "execute_result"
    },
    {
     "data": {
      "image/png": "[encoded data removed]",
      "text/plain": [
       "<Figure size 432x288 with 1 Axes>"
      ]
     },
     "metadata": {
      "needs_background": "light"
     },
     "output_type": "display_data"
    }
   ],
   "source": [
    "perdidas[['loss','val_loss']].plot()"
   ]
  },
  {
   "cell_type": "code",
   "execution_count": 29,
   "id": "1f2e1624-b217-4c60-b2bd-6b0d7c3cc218",
   "metadata": {},
   "outputs": [
    {
     "data": {
      "text/plain": [
       "['loss', 'accuracy']"
      ]
     },
     "execution_count": 29,
     "metadata": {},
     "output_type": "execute_result"
    }
   ],
   "source": [
    "modelo_LeNet.metrics_names"
   ]
  },
  {
   "cell_type": "code",
   "execution_count": 30,
   "id": "e2042a07-30b7-4f75-bd54-4b2333210265",
   "metadata": {},
   "outputs": [
    {
     "data": {
      "text/plain": [
       "<AxesSubplot:>"
      ]
     },
     "execution_count": 30,
     "metadata": {},
     "output_type": "execute_result"
    },
    {
     "data": {
      "image/png": "[encoded data removed]",
      "text/plain": [
       "<Figure size 432x288 with 1 Axes>"
      ]
     },
     "metadata": {
      "needs_background": "light"
     },
     "output_type": "display_data"
    }
   ],
   "source": [
    "perdidas[['accuracy', 'val_accuracy']].plot()"
   ]
  },
  {
   "cell_type": "code",
   "execution_count": 33,
   "id": "47f451a0-7ab6-4af5-95fb-3227abb25fea",
   "metadata": {},
   "outputs": [
    {
     "data": {
      "image/png": "[encoded data removed]",
      "text/plain": [
       "<Figure size 432x288 with 1 Axes>"
      ]
     },
     "metadata": {
      "needs_background": "light"
     },
     "output_type": "display_data"
    },
    {
     "name": "stdout",
     "output_type": "stream",
     "text": [
      "1/1 [==============================] - 0s 97ms/step\n",
      "Clase predicha: 18\n"
     ]
    }
   ],
   "source": [
    "plt.imshow(datos_prueba['features'][6])\n",
    "plt.title(f\"Label: {datos_prueba['labels'][6]}\")\n",
    "plt.show()\n",
    "\n",
    "# 1. Hacer una predicción para la imagen\n",
    "probabilidades = modelo_LeNet.predict(np.expand_dims(X_prueba[6], axis=0))\n",
    "\n",
    "# 2. Obtener la clase con la mayor probabilidad\n",
    "clase_predicha = np.argmax(probabilidades, axis=-1)[0]\n",
    "\n",
    "print(\"Clase predicha:\", clase_predicha)"
   ]
  },
  {
   "cell_type": "code",
   "execution_count": 34,
   "id": "b6fea778-9d48-47e3-9304-9ca7e73be69a",
   "metadata": {},
   "outputs": [
    {
     "name": "stdout",
     "output_type": "stream",
     "text": [
      "395/395 [==============================] - 1s 3ms/step\n",
      "Precision: 0.9078886803145976\n",
      "Recall: 0.9034045922406968\n",
      "F1-Score: 0.9030834984190192\n"
     ]
    }
   ],
   "source": [
    "# Realizar predicciones con el modelo\n",
    "y_pred = modelo_LeNet.predict(X_prueba)\n",
    "y_pred_classes = np.argmax(y_pred, axis=1)  # Convertir las probabilidades predichas en etiquetas de clase\n",
    "\n",
    "# Convertir las etiquetas one-hot en etiquetas de clase\n",
    "y_true = np.argmax(Y_prueba, axis=1)\n",
    "\n",
    "# Calcular métricas\n",
    "precision = precision_score(y_true, y_pred_classes, average='weighted')\n",
    "recall = recall_score(y_true, y_pred_classes, average='weighted')\n",
    "f1 = f1_score(y_true, y_pred_classes, average='weighted')\n",
    "\n",
    "print(f'Precision: {precision}')\n",
    "print(f'Recall: {recall}')\n",
    "print(f'F1-Score: {f1}')"
   ]
  },
  {
   "cell_type": "code",
   "execution_count": 35,
   "id": "50d1de22-5a9d-41b7-93ca-927478c9da15",
   "metadata": {},
   "outputs": [],
   "source": [
    "modelo_LeNet_modificado = Sequential()\n",
    "\n",
    "# Capa convolucional 1\n",
    "modelo_LeNet_modificado.add(Conv2D(6, kernel_size=(5, 5), strides=(1, 1), activation='tanh', input_shape=(32, 32, 3), padding=\"same\"))\n",
    "modelo_LeNet_modificado.add(BatchNormalization())\n",
    "modelo_LeNet_modificado.add(Dropout(0.3))\n",
    "\n",
    "# Capa de subsampling (pooling) 1\n",
    "modelo_LeNet_modificado.add(AveragePooling2D(pool_size=(2, 2), strides=(2, 2), padding='valid'))\n",
    "\n",
    "# Capa convolucional 2\n",
    "modelo_LeNet_modificado.add(Conv2D(16, kernel_size=(5, 5), strides=(1, 1), activation='tanh', padding='valid'))\n",
    "modelo_LeNet_modificado.add(BatchNormalization())\n",
    "modelo_LeNet_modificado.add(Dropout(0.3))\n",
    "\n",
    "# Capa de subsampling (pooling) 2\n",
    "modelo_LeNet_modificado.add(AveragePooling2D(pool_size=(2, 2), strides=(2, 2), padding='valid'))\n",
    "\n",
    "# Aplanar\n",
    "modelo_LeNet_modificado.add(Flatten())\n",
    "\n",
    "# Capa completamente conectada (Dense) 1\n",
    "modelo_LeNet_modificado.add(Dense(120, activation='tanh'))\n",
    "modelo_LeNet_modificado.add(BatchNormalization())\n",
    "modelo_LeNet_modificado.add(Dropout(0.3))\n",
    "\n",
    "# Capa completamente conectada (Dense) 2\n",
    "modelo_LeNet_modificado.add(Dense(84, activation='tanh'))\n",
    "modelo_LeNet_modificado.add(BatchNormalization())\n",
    "modelo_LeNet_modificado.add(Dropout(0.3))\n",
    "\n",
    "# Capa de salida\n",
    "modelo_LeNet_modificado.add(Dense(43, activation='softmax'))\n",
    "\n",
    "# Definición del callback de EarlyStopping\n",
    "early_stopping = EarlyStopping(monitor='val_loss', patience=10)\n",
    "\n",
    "modelo_LeNet_modificado.compile(optimizer=Adam(), loss='categorical_crossentropy', metrics=['accuracy'])"
   ]
  },
  {
   "cell_type": "code",
   "execution_count": 36,
   "id": "eefa0aac-feef-4712-b2c4-558664172bfc",
   "metadata": {},
   "outputs": [
    {
     "name": "stdout",
     "output_type": "stream",
     "text": [
      "Model: \"sequential_1\"\n",
      "_________________________________________________________________\n",
      " Layer (type)                Output Shape              Param #   \n",
      "=================================================================\n",
      " conv2d_2 (Conv2D)           (None, 32, 32, 6)         456       \n",
      "                                                                 \n",
      " batch_normalization (BatchN  (None, 32, 32, 6)        24        \n",
      " ormalization)                                                   \n",
      "                                                                 \n",
      " dropout (Dropout)           (None, 32, 32, 6)         0         \n",
      "                                                                 \n",
      " average_pooling2d_2 (Averag  (None, 16, 16, 6)        0         \n",
      " ePooling2D)                                                     \n",
      "                                                                 \n",
      " conv2d_3 (Conv2D)           (None, 12, 12, 16)        2416      \n",
      "                                                                 \n",
      " batch_normalization_1 (Batc  (None, 12, 12, 16)       64        \n",
      " hNormalization)                                                 \n",
      "                                                                 \n",
      " dropout_1 (Dropout)         (None, 12, 12, 16)        0         \n",
      "                                                                 \n",
      " average_pooling2d_3 (Averag  (None, 6, 6, 16)         0         \n",
      " ePooling2D)                                                     \n",
      "                                                                 \n",
      " flatten_1 (Flatten)         (None, 576)               0         \n",
      "                                                                 \n",
      " dense_3 (Dense)             (None, 120)               69240     \n",
      "                                                                 \n",
      " batch_normalization_2 (Batc  (None, 120)              480       \n",
      " hNormalization)                                                 \n",
      "                                                                 \n",
      " dropout_2 (Dropout)         (None, 120)               0         \n",
      "                                                                 \n",
      " dense_4 (Dense)             (None, 84)                10164     \n",
      "                                                                 \n",
      " batch_normalization_3 (Batc  (None, 84)               336       \n",
      " hNormalization)                                                 \n",
      "                                                                 \n",
      " dropout_3 (Dropout)         (None, 84)                0         \n",
      "                                                                 \n",
      " dense_5 (Dense)             (None, 43)                3655      \n",
      "                                                                 \n",
      "=================================================================\n",
      "Total params: 86,835\n",
      "Trainable params: 86,383\n",
      "Non-trainable params: 452\n",
      "_________________________________________________________________\n"
     ]
    }
   ],
   "source": [
    "# Resumen del modelo\n",
    "modelo_LeNet_modificado.summary()"
   ]
  },
  {
   "cell_type": "code",
   "execution_count": 37,
   "id": "568c4fae-0aff-40ea-ad43-4ddd03219b00",
   "metadata": {},
   "outputs": [
    {
     "name": "stdout",
     "output_type": "stream",
     "text": [
      "Epoch 1/50\n",
      "1088/1088 [==============================] - 17s 14ms/step - loss: 1.2736 - accuracy: 0.6450 - val_loss: 0.4559 - val_accuracy: 0.8587\n",
      "Epoch 2/50\n",
      "1088/1088 [==============================] - 16s 14ms/step - loss: 0.5090 - accuracy: 0.8481 - val_loss: 0.3157 - val_accuracy: 0.9029\n",
      "Epoch 3/50\n",
      "1088/1088 [==============================] - 16s 15ms/step - loss: 0.3724 - accuracy: 0.8895 - val_loss: 0.2569 - val_accuracy: 0.9200\n",
      "Epoch 4/50\n",
      "1088/1088 [==============================] - 16s 15ms/step - loss: 0.3118 - accuracy: 0.9076 - val_loss: 0.2203 - val_accuracy: 0.9347\n",
      "Epoch 5/50\n",
      "1088/1088 [==============================] - 16s 15ms/step - loss: 0.2704 - accuracy: 0.9194 - val_loss: 0.2255 - val_accuracy: 0.9313\n",
      "Epoch 6/50\n",
      "1088/1088 [==============================] - 16s 15ms/step - loss: 0.2422 - accuracy: 0.9282 - val_loss: 0.2180 - val_accuracy: 0.9365\n",
      "Epoch 7/50\n",
      "1088/1088 [==============================] - 16s 15ms/step - loss: 0.2208 - accuracy: 0.9329 - val_loss: 0.1841 - val_accuracy: 0.9460\n",
      "Epoch 8/50\n",
      "1088/1088 [==============================] - 16s 14ms/step - loss: 0.2042 - accuracy: 0.9380 - val_loss: 0.1825 - val_accuracy: 0.9481\n",
      "Epoch 9/50\n",
      "1088/1088 [==============================] - 16s 14ms/step - loss: 0.1866 - accuracy: 0.9451 - val_loss: 0.1757 - val_accuracy: 0.9508\n",
      "Epoch 10/50\n",
      "1088/1088 [==============================] - 16s 14ms/step - loss: 0.1754 - accuracy: 0.9464 - val_loss: 0.2078 - val_accuracy: 0.9413\n",
      "Epoch 11/50\n",
      "1088/1088 [==============================] - 16s 14ms/step - loss: 0.1694 - accuracy: 0.9487 - val_loss: 0.1708 - val_accuracy: 0.9537\n",
      "Epoch 12/50\n",
      "1088/1088 [==============================] - 16s 14ms/step - loss: 0.1585 - accuracy: 0.9517 - val_loss: 0.1981 - val_accuracy: 0.9447\n",
      "Epoch 13/50\n",
      "1088/1088 [==============================] - 16s 14ms/step - loss: 0.1565 - accuracy: 0.9520 - val_loss: 0.1696 - val_accuracy: 0.9562\n",
      "Epoch 14/50\n",
      "1088/1088 [==============================] - 16s 14ms/step - loss: 0.1507 - accuracy: 0.9547 - val_loss: 0.1783 - val_accuracy: 0.9526\n",
      "Epoch 15/50\n",
      "1088/1088 [==============================] - 16s 14ms/step - loss: 0.1470 - accuracy: 0.9555 - val_loss: 0.1669 - val_accuracy: 0.9578\n",
      "Epoch 16/50\n",
      "1088/1088 [==============================] - 16s 14ms/step - loss: 0.1330 - accuracy: 0.9586 - val_loss: 0.1600 - val_accuracy: 0.9546\n",
      "Epoch 17/50\n",
      "1088/1088 [==============================] - 16s 14ms/step - loss: 0.1380 - accuracy: 0.9579 - val_loss: 0.1575 - val_accuracy: 0.9585\n",
      "Epoch 18/50\n",
      "1088/1088 [==============================] - 16s 15ms/step - loss: 0.1381 - accuracy: 0.9592 - val_loss: 0.1662 - val_accuracy: 0.9540\n",
      "Epoch 19/50\n",
      "1088/1088 [==============================] - 17s 15ms/step - loss: 0.1298 - accuracy: 0.9607 - val_loss: 0.1586 - val_accuracy: 0.9558\n",
      "Epoch 20/50\n",
      "1088/1088 [==============================] - 17s 15ms/step - loss: 0.1276 - accuracy: 0.9613 - val_loss: 0.1531 - val_accuracy: 0.9585\n",
      "Epoch 21/50\n",
      "1088/1088 [==============================] - 17s 15ms/step - loss: 0.1261 - accuracy: 0.9613 - val_loss: 0.1571 - val_accuracy: 0.9587\n",
      "Epoch 22/50\n",
      "1088/1088 [==============================] - 16s 15ms/step - loss: 0.1132 - accuracy: 0.9660 - val_loss: 0.1604 - val_accuracy: 0.9551\n",
      "Epoch 23/50\n",
      "1088/1088 [==============================] - 16s 14ms/step - loss: 0.1158 - accuracy: 0.9646 - val_loss: 0.1654 - val_accuracy: 0.9531\n",
      "Epoch 24/50\n",
      "1088/1088 [==============================] - 16s 14ms/step - loss: 0.1222 - accuracy: 0.9625 - val_loss: 0.1551 - val_accuracy: 0.9583\n",
      "Epoch 25/50\n",
      "1088/1088 [==============================] - 16s 14ms/step - loss: 0.1115 - accuracy: 0.9660 - val_loss: 0.1411 - val_accuracy: 0.9639\n",
      "Epoch 26/50\n",
      "1088/1088 [==============================] - 16s 14ms/step - loss: 0.1055 - accuracy: 0.9675 - val_loss: 0.1581 - val_accuracy: 0.9592\n",
      "Epoch 27/50\n",
      "1088/1088 [==============================] - 16s 14ms/step - loss: 0.1065 - accuracy: 0.9662 - val_loss: 0.1643 - val_accuracy: 0.9533\n",
      "Epoch 28/50\n",
      "1088/1088 [==============================] - 16s 15ms/step - loss: 0.1048 - accuracy: 0.9678 - val_loss: 0.1534 - val_accuracy: 0.9642\n",
      "Epoch 29/50\n",
      "1088/1088 [==============================] - 16s 15ms/step - loss: 0.1068 - accuracy: 0.9675 - val_loss: 0.1728 - val_accuracy: 0.9540\n",
      "Epoch 30/50\n",
      "1088/1088 [==============================] - 16s 15ms/step - loss: 0.1015 - accuracy: 0.9687 - val_loss: 0.1392 - val_accuracy: 0.9642\n",
      "Epoch 31/50\n",
      "1088/1088 [==============================] - 16s 15ms/step - loss: 0.0975 - accuracy: 0.9691 - val_loss: 0.1777 - val_accuracy: 0.9535\n",
      "Epoch 32/50\n",
      "1088/1088 [==============================] - 16s 15ms/step - loss: 0.0956 - accuracy: 0.9706 - val_loss: 0.1631 - val_accuracy: 0.9587\n",
      "Epoch 33/50\n",
      "1088/1088 [==============================] - 17s 15ms/step - loss: 0.0988 - accuracy: 0.9700 - val_loss: 0.1351 - val_accuracy: 0.9639\n",
      "Epoch 34/50\n",
      "1088/1088 [==============================] - 16s 15ms/step - loss: 0.0985 - accuracy: 0.9691 - val_loss: 0.1641 - val_accuracy: 0.9576\n",
      "Epoch 35/50\n",
      "1088/1088 [==============================] - 16s 15ms/step - loss: 0.0916 - accuracy: 0.9718 - val_loss: 0.1755 - val_accuracy: 0.9540\n",
      "Epoch 36/50\n",
      "1088/1088 [==============================] - 16s 15ms/step - loss: 0.0854 - accuracy: 0.9731 - val_loss: 0.1770 - val_accuracy: 0.9585\n",
      "Epoch 37/50\n",
      "1088/1088 [==============================] - 17s 15ms/step - loss: 0.0911 - accuracy: 0.9715 - val_loss: 0.1854 - val_accuracy: 0.9542\n",
      "Epoch 38/50\n",
      "1088/1088 [==============================] - 16s 15ms/step - loss: 0.0939 - accuracy: 0.9708 - val_loss: 0.1640 - val_accuracy: 0.9537\n",
      "Epoch 39/50\n",
      "1088/1088 [==============================] - 16s 15ms/step - loss: 0.0855 - accuracy: 0.9737 - val_loss: 0.1587 - val_accuracy: 0.9592\n",
      "Epoch 40/50\n",
      "1088/1088 [==============================] - 16s 15ms/step - loss: 0.0872 - accuracy: 0.9735 - val_loss: 0.1809 - val_accuracy: 0.9576\n",
      "Epoch 41/50\n",
      "1088/1088 [==============================] - 16s 15ms/step - loss: 0.0851 - accuracy: 0.9734 - val_loss: 0.1571 - val_accuracy: 0.9567\n",
      "Epoch 42/50\n",
      "1088/1088 [==============================] - 16s 15ms/step - loss: 0.0829 - accuracy: 0.9732 - val_loss: 0.1499 - val_accuracy: 0.9619\n",
      "Epoch 43/50\n",
      "1088/1088 [==============================] - 17s 15ms/step - loss: 0.0783 - accuracy: 0.9750 - val_loss: 0.1565 - val_accuracy: 0.9619\n",
      "395/395 [==============================] - 2s 4ms/step - loss: 0.2443 - accuracy: 0.9473\n",
      "Pérdida en datos de prueba: 0.24431616067886353\n",
      "Precisión en datos de prueba: 0.9472684264183044\n"
     ]
    }
   ],
   "source": [
    "# 2. Entrenar el modelo (asegúrate de tener tus datos y etiquetas definidos como X_entrenamiento, Y_entrenamiento, etc.)\n",
    "# También puedes usar un generador de datos si lo tienes configurado.\n",
    "historia_mod = modelo_LeNet_modificado.fit(\n",
    "    X_entrenamiento, Y_entrenamiento, \n",
    "    epochs=50,\n",
    "    batch_size=32,\n",
    "    validation_data=(X_validacion, Y_validacion), \n",
    "    callbacks=[early_stopping]\n",
    ")\n",
    "\n",
    "# 3. Evaluar el modelo en datos de prueba\n",
    "score = modelo_LeNet_modificado.evaluate(X_prueba, Y_prueba, verbose=1)\n",
    "print('Pérdida en datos de prueba:', score[0])\n",
    "print('Precisión en datos de prueba:', score[1])"
   ]
  },
  {
   "cell_type": "code",
   "execution_count": 38,
   "id": "7e153faa-61dd-46d5-84d5-a40259c732f9",
   "metadata": {},
   "outputs": [
    {
     "data": {
      "text/html": [
       "<div>\n",
       "<style scoped>\n",
       "    .dataframe tbody tr th:only-of-type {\n",
       "        vertical-align: middle;\n",
       "    }\n",
       "\n",
       "    .dataframe tbody tr th {\n",
       "        vertical-align: top;\n",
       "    }\n",
       "\n",
       "    .dataframe thead th {\n",
       "        text-align: right;\n",
       "    }\n",
       "</style>\n",
       "<table border=\"1\" class=\"dataframe\">\n",
       "  <thead>\n",
       "    <tr style=\"text-align: right;\">\n",
       "      <th></th>\n",
       "      <th>loss</th>\n",
       "      <th>accuracy</th>\n",
       "      <th>val_loss</th>\n",
       "      <th>val_accuracy</th>\n",
       "    </tr>\n",
       "  </thead>\n",
       "  <tbody>\n",
       "    <tr>\n",
       "      <th>0</th>\n",
       "      <td>1.273592</td>\n",
       "      <td>0.645047</td>\n",
       "      <td>0.455945</td>\n",
       "      <td>0.858730</td>\n",
       "    </tr>\n",
       "    <tr>\n",
       "      <th>1</th>\n",
       "      <td>0.509001</td>\n",
       "      <td>0.848128</td>\n",
       "      <td>0.315732</td>\n",
       "      <td>0.902948</td>\n",
       "    </tr>\n",
       "    <tr>\n",
       "      <th>2</th>\n",
       "      <td>0.372408</td>\n",
       "      <td>0.889537</td>\n",
       "      <td>0.256887</td>\n",
       "      <td>0.919955</td>\n",
       "    </tr>\n",
       "    <tr>\n",
       "      <th>3</th>\n",
       "      <td>0.311837</td>\n",
       "      <td>0.907641</td>\n",
       "      <td>0.220289</td>\n",
       "      <td>0.934694</td>\n",
       "    </tr>\n",
       "    <tr>\n",
       "      <th>4</th>\n",
       "      <td>0.270426</td>\n",
       "      <td>0.919423</td>\n",
       "      <td>0.225471</td>\n",
       "      <td>0.931293</td>\n",
       "    </tr>\n",
       "  </tbody>\n",
       "</table>\n",
       "</div>"
      ],
      "text/plain": [
       "       loss  accuracy  val_loss  val_accuracy\n",
       "0  1.273592  0.645047  0.455945      0.858730\n",
       "1  0.509001  0.848128  0.315732      0.902948\n",
       "2  0.372408  0.889537  0.256887      0.919955\n",
       "3  0.311837  0.907641  0.220289      0.934694\n",
       "4  0.270426  0.919423  0.225471      0.931293"
      ]
     },
     "execution_count": 38,
     "metadata": {},
     "output_type": "execute_result"
    }
   ],
   "source": [
    "perdidas_mod = pd.DataFrame(historia_mod.history)\n",
    "perdidas_mod.head()"
   ]
  },
  {
   "cell_type": "code",
   "execution_count": 39,
   "id": "2e74c4eb-a4ec-45ba-a85a-f2d2a6bbae5d",
   "metadata": {},
   "outputs": [
    {
     "data": {
      "text/plain": [
       "<AxesSubplot:>"
      ]
     },
     "execution_count": 39,
     "metadata": {},
     "output_type": "execute_result"
    },
    {
     "data": {
      "image/png": "[encoded data removed]",
      "text/plain": [
       "<Figure size 432x288 with 1 Axes>"
      ]
     },
     "metadata": {
      "needs_background": "light"
     },
     "output_type": "display_data"
    }
   ],
   "source": [
    "perdidas_mod[['loss','val_loss']].plot()"
   ]
  },
  {
   "cell_type": "code",
   "execution_count": 40,
   "id": "740683c9-8808-4068-ae7d-301099d4f683",
   "metadata": {},
   "outputs": [
    {
     "data": {
      "text/plain": [
       "<AxesSubplot:>"
      ]
     },
     "execution_count": 40,
     "metadata": {},
     "output_type": "execute_result"
    },
    {
     "data": {
      "image/png": "[encoded data removed]",
      "text/plain": [
       "<Figure size 432x288 with 1 Axes>"
      ]
     },
     "metadata": {
      "needs_background": "light"
     },
     "output_type": "display_data"
    }
   ],
   "source": [
    "perdidas_mod[['accuracy', 'val_accuracy']].plot()"
   ]
  },
  {
   "cell_type": "code",
   "execution_count": 41,
   "id": "0f21a7b8-49ca-4240-ba0f-397f86fab956",
   "metadata": {},
   "outputs": [
    {
     "data": {
      "image/png": "[encoded data removed]",
      "text/plain": [
       "<Figure size 432x288 with 1 Axes>"
      ]
     },
     "metadata": {
      "needs_background": "light"
     },
     "output_type": "display_data"
    },
    {
     "name": "stdout",
     "output_type": "stream",
     "text": [
      "1/1 [==============================] - 0s 78ms/step\n",
      "Clase predicha: 12\n"
     ]
    }
   ],
   "source": [
    "plt.imshow(datos_prueba['features'][7])\n",
    "plt.title(f\"Label: {datos_prueba['labels'][7]}\")\n",
    "plt.show()\n",
    "\n",
    "# 1. Hacer una predicción para la imagen\n",
    "probabilidades = modelo_LeNet_modificado.predict(np.expand_dims(X_prueba[7], axis=0))\n",
    "\n",
    "# 2. Obtener la clase con la mayor probabilidad\n",
    "clase_predicha = np.argmax(probabilidades, axis=-1)[0]\n",
    "\n",
    "print(\"Clase predicha:\", clase_predicha)"
   ]
  },
  {
   "cell_type": "code",
   "execution_count": 42,
   "id": "66095e2d-d825-41a6-8c19-48251ddbf6c0",
   "metadata": {},
   "outputs": [
    {
     "name": "stdout",
     "output_type": "stream",
     "text": [
      "395/395 [==============================] - 2s 4ms/step\n",
      "Precision: 0.9487373311072747\n",
      "Recall: 0.9472684085510689\n",
      "F1-Score: 0.946475018290988\n"
     ]
    }
   ],
   "source": [
    "# 1. Realizar predicciones con el modelo\n",
    "y_pred = modelo_LeNet_modificado.predict(X_prueba)\n",
    "y_pred_classes = np.argmax(y_pred, axis=1)  # Convertir las probabilidades predichas en etiquetas de clase\n",
    "\n",
    "# 2. Convertir las etiquetas one-hot en etiquetas de clase\n",
    "y_true = np.argmax(Y_prueba, axis=1)\n",
    "\n",
    "# 3. Calcular métricas\n",
    "f1 = f1_score(y_true, y_pred_classes, average='weighted')\n",
    "recall = recall_score(y_true, y_pred_classes, average='weighted')\n",
    "precision = precision_score(y_true, y_pred_classes, average='weighted')\n",
    "\n",
    "print(f'Precision: {precision}')\n",
    "print(f'Recall: {recall}')\n",
    "print(f'F1-Score: {f1}')"
   ]
  }
 ],
 "metadata": {
  "kernelspec": {
   "display_name": "Python 3 (ipykernel)",
   "language": "python",
   "name": "python3"
  },
  "language_info": {
   "codemirror_mode": {
    "name": "ipython",
    "version": 3
   },
   "file_extension": ".py",
   "mimetype": "text/x-python",
   "name": "python",
   "nbconvert_exporter": "python",
   "pygments_lexer": "ipython3",
   "version": "3.9.7"
  }
 },
 "nbformat": 4,
 "nbformat_minor": 5
}
